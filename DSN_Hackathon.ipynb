{
 "cells": [
  {
   "cell_type": "code",
   "execution_count": 1,
   "id": "5f50de9c",
   "metadata": {},
   "outputs": [],
   "source": [
    "import pandas as pd\n",
    "import numpy as np\n",
    "import matplotlib.pyplot as plt\n",
    "import seaborn as sns\n",
    "from sklearn.model_selection import train_test_split, RandomizedSearchCV\n",
    "from sklearn.preprocessing import LabelEncoder\n",
    "from sklearn.metrics import mean_squared_error\n",
    "import xgboost as xgb\n",
    "from catboost import CatBoostRegressor\n",
    "import warnings\n",
    "warnings.filterwarnings('ignore')"
   ]
  },
  {
   "cell_type": "code",
   "execution_count": 2,
   "id": "945ad07c",
   "metadata": {},
   "outputs": [
    {
     "name": "stdout",
     "output_type": "stream",
     "text": [
      "Loading data...\n"
     ]
    }
   ],
   "source": [
    "# Load data\n",
    "print(\"Loading data...\")\n",
    "train = pd.read_csv('train.csv')\n",
    "test = pd.read_csv('test.csv')"
   ]
  },
  {
   "cell_type": "code",
   "execution_count": 3,
   "id": "dc42eda3",
   "metadata": {},
   "outputs": [
    {
     "name": "stdout",
     "output_type": "stream",
     "text": [
      "Train shape: (4990, 13)\n",
      "Test shape: (3532, 12)\n",
      "\n",
      "Train columns: ['Item_ID', 'Store_ID', 'Item_Store_ID', 'Item_Weight', 'Item_Sugar_Content', 'Item_Visibility', 'Item_Type', 'Item_Price', 'Store_Start_Year', 'Store_Size', 'Store_Location_Type', 'Store_Type', 'Item_Store_Returns']\n"
     ]
    }
   ],
   "source": [
    "print(f\"Train shape: {train.shape}\")\n",
    "print(f\"Test shape: {test.shape}\")\n",
    "print(f\"\\nTrain columns: {list(train.columns)}\")"
   ]
  },
  {
   "cell_type": "code",
   "execution_count": 4,
   "id": "4d51f2be",
   "metadata": {},
   "outputs": [
    {
     "name": "stdout",
     "output_type": "stream",
     "text": [
      "=== TRAIN DATA INFO ===\n",
      "<class 'pandas.core.frame.DataFrame'>\n",
      "RangeIndex: 4990 entries, 0 to 4989\n",
      "Data columns (total 13 columns):\n",
      " #   Column               Non-Null Count  Dtype  \n",
      "---  ------               --------------  -----  \n",
      " 0   Item_ID              4990 non-null   object \n",
      " 1   Store_ID             4990 non-null   object \n",
      " 2   Item_Store_ID        4990 non-null   object \n",
      " 3   Item_Weight          4188 non-null   float64\n",
      " 4   Item_Sugar_Content   4990 non-null   object \n",
      " 5   Item_Visibility      4990 non-null   float64\n",
      " 6   Item_Type            4990 non-null   object \n",
      " 7   Item_Price           4990 non-null   float64\n",
      " 8   Store_Start_Year     4990 non-null   int64  \n",
      " 9   Store_Size           3540 non-null   object \n",
      " 10  Store_Location_Type  4990 non-null   object \n",
      " 11  Store_Type           4990 non-null   object \n",
      " 12  Item_Store_Returns   4990 non-null   float64\n",
      "dtypes: float64(4), int64(1), object(8)\n",
      "memory usage: 506.9+ KB\n",
      "None\n",
      "\n",
      "=== BASIC STATISTICS ===\n",
      "       Item_Weight  Item_Visibility   Item_Price  Store_Start_Year  \\\n",
      "count  4188.000000      4990.000000  4990.000000       4990.000000   \n",
      "mean     12.908838         0.066916   391.803796       2004.783567   \n",
      "std       4.703256         0.053058   119.378259          8.283151   \n",
      "min       4.555000         0.000000    78.730000       1992.000000   \n",
      "25%       8.767500         0.027273   307.890000       1994.000000   \n",
      "50%      12.600000         0.053564   393.860000       2006.000000   \n",
      "75%      17.100000         0.095358   465.067500       2011.000000   \n",
      "max      21.350000         0.328391   667.220000       2016.000000   \n",
      "\n",
      "       Item_Store_Returns  \n",
      "count         4990.000000  \n",
      "mean          6103.520164  \n",
      "std           4447.333835  \n",
      "min             83.230000  \n",
      "25%           2757.660000  \n",
      "50%           5374.675000  \n",
      "75%           8522.240000  \n",
      "max          32717.410000  \n"
     ]
    }
   ],
   "source": [
    "# Display basic info\n",
    "print(\"=== TRAIN DATA INFO ===\")\n",
    "print(train.info())\n",
    "print(\"\\n=== BASIC STATISTICS ===\")\n",
    "print(train.describe())"
   ]
  },
  {
   "cell_type": "code",
   "execution_count": 5,
   "id": "643fb406",
   "metadata": {},
   "outputs": [
    {
     "name": "stdout",
     "output_type": "stream",
     "text": [
      "=== MISSING VALUES ===\n",
      "             Train_Missing  Test_Missing  Train_Percent  Test_Percent\n",
      "Item_Weight            802         661.0      16.072144     18.714609\n",
      "Store_Size            1450         959.0      29.058116     27.151755\n"
     ]
    }
   ],
   "source": [
    "# Check missing values\n",
    "print(\"=== MISSING VALUES ===\")\n",
    "missing_train = train.isnull().sum()\n",
    "missing_test = test.isnull().sum()\n",
    "\n",
    "missing_df = pd.DataFrame({\n",
    "    'Train_Missing': missing_train,\n",
    "    'Test_Missing': missing_test,\n",
    "    'Train_Percent': (missing_train / len(train)) * 100,\n",
    "    'Test_Percent': (missing_test / len(test)) * 100\n",
    "})\n",
    "print(missing_df[missing_df['Train_Missing'] > 0])"
   ]
  },
  {
   "cell_type": "code",
   "execution_count": 6,
   "id": "b01f816c",
   "metadata": {},
   "outputs": [],
   "source": [
    "#4. Data Preprocessing and Feature Engineering\n",
    "# Combine train and test for consistent preprocessing\n",
    "train['source'] = 'train'\n",
    "test['source'] = 'test'\n",
    "test['Item_Store_Returns'] = np.nan\n"
   ]
  },
  {
   "cell_type": "code",
   "execution_count": 7,
   "id": "0f817cf2",
   "metadata": {},
   "outputs": [
    {
     "name": "stdout",
     "output_type": "stream",
     "text": [
      "Combined data shape: (8522, 14)\n"
     ]
    }
   ],
   "source": [
    "# Combine datasets\n",
    "data = pd.concat([train, test], ignore_index=True)\n",
    "print(f\"Combined data shape: {data.shape}\")"
   ]
  },
  {
   "cell_type": "code",
   "execution_count": 8,
   "id": "5db07cfd",
   "metadata": {},
   "outputs": [
    {
     "name": "stdout",
     "output_type": "stream",
     "text": [
      "Engineering features...\n",
      "Feature engineering completed!\n",
      "New features created: 7\n"
     ]
    }
   ],
   "source": [
    "# Feature Engineering\n",
    "print(\"Engineering features...\")\n",
    "\n",
    "# Temporal features\n",
    "data['Store_Age'] = 2025 - data['Store_Start_Year']\n",
    "\n",
    "# Price-visibility interactions\n",
    "data['Visibility_Adjusted_Price'] = data['Item_Price'] / (data['Item_Visibility'] + 1e-5)\n",
    "\n",
    "# Store exposure metric\n",
    "data['Store_Exposure'] = data['Item_Visibility'] * data['Store_Age']\n",
    "\n",
    "# Price per weight ratio\n",
    "data['Item_Price_per_Weight'] = data['Item_Price'] / data['Item_Weight']\n",
    "\n",
    "# Weight categories\n",
    "data['Item_Weight_Category'] = pd.cut(\n",
    "    data['Item_Weight'], \n",
    "    bins=[0, 5, 10, 20, 100],\n",
    "    labels=['Very_Light', 'Light', 'Medium', 'Heavy']\n",
    ")\n",
    "\n",
    "# Price categories based on quantiles\n",
    "price_quantiles = data['Item_Price'].quantile([0.25, 0.5, 0.75]).values\n",
    "data['Item_Price_Category'] = pd.cut(\n",
    "    data['Item_Price'],\n",
    "    bins=[0] + list(price_quantiles) + [float('inf')],\n",
    "    labels=['Low', 'Medium', 'High', 'Premium']\n",
    ")\n",
    "\n",
    "# Visibility categories\n",
    "data['Item_Visibility_Category'] = pd.cut(\n",
    "    data['Item_Visibility'],\n",
    "    bins=5,\n",
    "    labels=['Very_Low', 'Low', 'Medium', 'High', 'Very_High']\n",
    ")\n",
    "\n",
    "print(\"Feature engineering completed!\")\n",
    "print(f\"New features created: {data.shape[1] - len(train.columns)}\")"
   ]
  },
  {
   "cell_type": "code",
   "execution_count": 9,
   "id": "7cad483a",
   "metadata": {},
   "outputs": [
    {
     "name": "stdout",
     "output_type": "stream",
     "text": [
      "Handling missing values...\n",
      "Missing values handled!\n"
     ]
    }
   ],
   "source": [
    "# Handle missing values\n",
    "print(\"Handling missing values...\")\n",
    "\n",
    "# Numeric columns\n",
    "numeric_cols = ['Item_Weight', 'Item_Visibility', 'Item_Price']\n",
    "for col in numeric_cols:\n",
    "    if col in data.columns:\n",
    "        data[col].fillna(data[col].mean(), inplace=True)\n",
    "\n",
    "# Categorical columns\n",
    "if 'Store_Size' in data.columns:\n",
    "    data['Store_Size'].fillna(data['Store_Size'].mode()[0], inplace=True)\n",
    "\n",
    "print(\"Missing values handled!\")"
   ]
  },
  {
   "cell_type": "code",
   "execution_count": 10,
   "id": "daf0fd0c",
   "metadata": {},
   "outputs": [
    {
     "name": "stdout",
     "output_type": "stream",
     "text": [
      "Encoding categorical variables...\n"
     ]
    }
   ],
   "source": [
    "# Encode categorical variables\n",
    "print(\"Encoding categorical variables...\")\n",
    "\n",
    "# Define categorical columns\n",
    "cat_cols = [\n",
    "    'Item_ID', 'Store_ID', 'Item_Store_ID', 'Item_Sugar_Content',\n",
    "    'Item_Type', 'Store_Size', 'Store_Location_Type', 'Store_Type',\n",
    "    'Item_Weight_Category', 'Item_Price_Category', 'Item_Visibility_Category'\n",
    "]"
   ]
  },
  {
   "cell_type": "code",
   "execution_count": 11,
   "id": "8c188339",
   "metadata": {},
   "outputs": [],
   "source": [
    "# Label encode high-cardinality IDs\n",
    "label_encoders = {}\n",
    "label_cols = ['Item_ID', 'Store_ID', 'Item_Store_ID']\n",
    "\n",
    "for col in label_cols:\n",
    "    if col in data.columns:\n",
    "        le = LabelEncoder()\n",
    "        data[col] = le.fit_transform(data[col].astype(str))\n",
    "        label_encoders[col] = le"
   ]
  },
  {
   "cell_type": "code",
   "execution_count": 13,
   "id": "357459f2",
   "metadata": {},
   "outputs": [
    {
     "name": "stdout",
     "output_type": "stream",
     "text": [
      "Encoding completed! Final shape: (8522, 47)\n"
     ]
    }
   ],
   "source": [
    "# One-hot encode other categoricals\n",
    "other_cats = [col for col in cat_cols if col not in label_cols and col in data.columns]\n",
    "if other_cats:\n",
    "    data = pd.get_dummies(data, columns=other_cats, drop_first=True)\n",
    "\n",
    "print(f\"Encoding completed! Final shape: {data.shape}\")"
   ]
  },
  {
   "cell_type": "code",
   "execution_count": 14,
   "id": "6c339cf1",
   "metadata": {},
   "outputs": [],
   "source": [
    "#5. Dataset Preparation\n",
    "# Separate train/test\n",
    "train_final = data[data['source'] == 'train'].drop(['source'], axis=1)\n",
    "test_final = data[data['source'] == 'test'].drop(['source', 'Item_Store_Returns'], axis=1)\n"
   ]
  },
  {
   "cell_type": "code",
   "execution_count": 15,
   "id": "67489e52",
   "metadata": {},
   "outputs": [],
   "source": [
    "# Features and target\n",
    "X = train_final.drop('Item_Store_Returns', axis=1)\n",
    "y = np.log1p(train_final['Item_Store_Returns'].astype(float))  # Log transform\n",
    "X_test = test_final"
   ]
  },
  {
   "cell_type": "code",
   "execution_count": 16,
   "id": "5ffddd1b",
   "metadata": {},
   "outputs": [
    {
     "name": "stdout",
     "output_type": "stream",
     "text": [
      "Training features shape: (4990, 45)\n",
      "Target shape: (4990,)\n",
      "Test features shape: (3532, 45)\n"
     ]
    }
   ],
   "source": [
    "print(f\"Training features shape: {X.shape}\")\n",
    "print(f\"Target shape: {y.shape}\")\n",
    "print(f\"Test features shape: {X_test.shape}\")"
   ]
  },
  {
   "cell_type": "code",
   "execution_count": 17,
   "id": "120a30f5",
   "metadata": {},
   "outputs": [],
   "source": [
    "# Train-validation split\n",
    "X_train, X_val, y_train, y_val = train_test_split(\n",
    "    X, y, test_size=0.2, random_state=42, stratify=None\n",
    ")"
   ]
  },
  {
   "cell_type": "code",
   "execution_count": 18,
   "id": "11112544",
   "metadata": {},
   "outputs": [
    {
     "name": "stdout",
     "output_type": "stream",
     "text": [
      "\n",
      "Train set: 3992 samples\n",
      "Validation set: 998 samples\n"
     ]
    }
   ],
   "source": [
    "print(f\"\\nTrain set: {X_train.shape[0]} samples\")\n",
    "print(f\"Validation set: {X_val.shape[0]} samples\")"
   ]
  },
  {
   "cell_type": "code",
   "execution_count": 19,
   "id": "5216c6ad",
   "metadata": {},
   "outputs": [
    {
     "name": "stdout",
     "output_type": "stream",
     "text": [
      "Training XGBoost with hyperparameter tuning...\n",
      "Fitting 3 folds for each of 20 candidates, totalling 60 fits\n",
      "Best XGBoost parameters: {'subsample': 1.0, 'n_estimators': 500, 'max_depth': 7, 'learning_rate': 0.05, 'gamma': 1, 'colsample_bytree': 0.6}\n"
     ]
    }
   ],
   "source": [
    "#6. Model Training - XGBoost\n",
    "# XGBoost with hyperparameter tuning\n",
    "print(\"Training XGBoost with hyperparameter tuning...\")\n",
    "\n",
    "# Parameter distribution for random search\n",
    "param_dist = {\n",
    "    'n_estimators': [100, 300, 500],\n",
    "    'learning_rate': [0.01, 0.05, 0.1, 0.2],\n",
    "    'max_depth': [3, 5, 7, 10],\n",
    "    'subsample': [0.6, 0.8, 1.0],\n",
    "    'colsample_bytree': [0.6, 0.8, 1.0],\n",
    "    'gamma': [0, 0.1, 0.3, 1]\n",
    "}\n",
    "\n",
    "# Random search\n",
    "xgb_model = xgb.XGBRegressor(random_state=42)\n",
    "search = RandomizedSearchCV(\n",
    "    estimator=xgb_model,\n",
    "    param_distributions=param_dist,\n",
    "    n_iter=20,\n",
    "    scoring='neg_root_mean_squared_error',\n",
    "    cv=3,\n",
    "    verbose=1,\n",
    "    random_state=42,\n",
    "    n_jobs=-1\n",
    ")\n",
    "\n",
    "search.fit(X_train, y_train)\n",
    "best_xgb_params = search.best_params_\n",
    "print(f\"Best XGBoost parameters: {best_xgb_params}\")\n"
   ]
  },
  {
   "cell_type": "code",
   "execution_count": 20,
   "id": "8e3467f0",
   "metadata": {},
   "outputs": [
    {
     "name": "stdout",
     "output_type": "stream",
     "text": [
      "[0]\ttrain-rmse:0.99870\teval-rmse:0.95971\n",
      "[50]\ttrain-rmse:0.44740\teval-rmse:0.54452\n",
      "[100]\ttrain-rmse:0.39301\teval-rmse:0.54492\n",
      "[111]\ttrain-rmse:0.38500\teval-rmse:0.54604\n",
      "\n",
      "XGBoost Validation RMSE: 3087.71\n"
     ]
    }
   ],
   "source": [
    "# Train final XGBoost model with early stopping\n",
    "dtrain = xgb.DMatrix(X_train, label=y_train)\n",
    "dval = xgb.DMatrix(X_val, label=y_val)\n",
    "\n",
    "xgb_params = {\n",
    "    'objective': 'reg:squarederror',\n",
    "    'eval_metric': 'rmse',\n",
    "    'max_depth': best_xgb_params.get('max_depth', 6),\n",
    "    'eta': best_xgb_params.get('learning_rate', 0.05),\n",
    "    'subsample': best_xgb_params.get('subsample', 0.8),\n",
    "    'colsample_bytree': best_xgb_params.get('colsample_bytree', 0.8),\n",
    "    'seed': 42\n",
    "}\n",
    "\n",
    "xgb_final = xgb.train(\n",
    "    xgb_params, dtrain,\n",
    "    num_boost_round=1000,\n",
    "    evals=[(dtrain, 'train'), (dval, 'eval')],\n",
    "    early_stopping_rounds=50,\n",
    "    verbose_eval=50\n",
    ")\n",
    "\n",
    "# XGBoost predictions and evaluation\n",
    "xgb_preds = xgb_final.predict(dval)\n",
    "xgb_rmse = mean_squared_error(np.expm1(y_val), np.expm1(xgb_preds), squared=False)\n",
    "print(f\"\\nXGBoost Validation RMSE: {xgb_rmse:.2f}\")\n"
   ]
  },
  {
   "cell_type": "code",
   "execution_count": 21,
   "id": "8ef60320",
   "metadata": {},
   "outputs": [
    {
     "name": "stdout",
     "output_type": "stream",
     "text": [
      "Training CatBoost model...\n",
      "0:\tlearn: 1.0016579\ttest: 0.9610068\tbest: 0.9610068 (0)\ttotal: 133ms\tremaining: 2m 12s\n",
      "100:\tlearn: 0.5063687\ttest: 0.5332939\tbest: 0.5332939 (100)\ttotal: 952ms\tremaining: 8.48s\n",
      "200:\tlearn: 0.4856904\ttest: 0.5335299\tbest: 0.5321506 (150)\ttotal: 1.76s\tremaining: 7s\n",
      "Stopped by overfitting detector  (50 iterations wait)\n",
      "\n",
      "bestTest = 0.5321506196\n",
      "bestIteration = 150\n",
      "\n",
      "Shrink model to first 151 iterations.\n"
     ]
    },
    {
     "data": {
      "text/plain": [
       "<catboost.core.CatBoostRegressor at 0x19373facd30>"
      ]
     },
     "execution_count": 21,
     "metadata": {},
     "output_type": "execute_result"
    }
   ],
   "source": [
    "\n",
    "# ## 7. Model Training - CatBoost\n",
    "\n",
    "# %%\n",
    "# Train CatBoost model\n",
    "print(\"Training CatBoost model...\")\n",
    "\n",
    "cat_model = CatBoostRegressor(\n",
    "    iterations=1000,\n",
    "    learning_rate=0.05,\n",
    "    depth=6,\n",
    "    loss_function='RMSE',\n",
    "    random_seed=42,\n",
    "    early_stopping_rounds=50,\n",
    "    verbose=100\n",
    ")\n",
    "\n",
    "cat_model.fit(\n",
    "    X_train, y_train,\n",
    "    eval_set=(X_val, y_val),\n",
    "    verbose=100\n",
    ")"
   ]
  },
  {
   "cell_type": "code",
   "execution_count": 22,
   "id": "4180f420",
   "metadata": {},
   "outputs": [
    {
     "name": "stdout",
     "output_type": "stream",
     "text": [
      "\n",
      "CatBoost Validation RMSE: 3040.58\n"
     ]
    }
   ],
   "source": [
    "# CatBoost predictions and evaluation\n",
    "cat_preds = cat_model.predict(X_val)\n",
    "cat_rmse = mean_squared_error(np.expm1(y_val), np.expm1(cat_preds), squared=False)\n",
    "print(f\"\\nCatBoost Validation RMSE: {cat_rmse:.2f}\")"
   ]
  },
  {
   "cell_type": "code",
   "execution_count": 23,
   "id": "c7a539be",
   "metadata": {},
   "outputs": [
    {
     "name": "stdout",
     "output_type": "stream",
     "text": [
      "=== MODEL COMPARISON ===\n",
      "XGBoost: 3087.71\n",
      "CatBoost: 3040.58\n"
     ]
    }
   ],
   "source": [
    "#8. Model Comparison and Selection\n",
    "\n",
    "# Compare models\n",
    "models_performance = {\n",
    "    'XGBoost': xgb_rmse,\n",
    "    'CatBoost': cat_rmse\n",
    "}\n",
    "\n",
    "print(\"=== MODEL COMPARISON ===\")\n",
    "for model_name, rmse in models_performance.items():\n",
    "    print(f\"{model_name}: {rmse:.2f}\")\n"
   ]
  },
  {
   "cell_type": "code",
   "execution_count": 24,
   "id": "173ff1db",
   "metadata": {},
   "outputs": [
    {
     "name": "stdout",
     "output_type": "stream",
     "text": [
      "\n",
      "Best Model: CatBoost (RMSE: 3040.58)\n"
     ]
    }
   ],
   "source": [
    "# Select best model\n",
    "best_model_name = min(models_performance.keys(), key=lambda k: models_performance[k])\n",
    "best_rmse = models_performance[best_model_name]\n",
    "\n",
    "print(f\"\\nBest Model: {best_model_name} (RMSE: {best_rmse:.2f})\")\n"
   ]
  },
  {
   "cell_type": "code",
   "execution_count": 25,
   "id": "2276a68c",
   "metadata": {},
   "outputs": [
    {
     "name": "stdout",
     "output_type": "stream",
     "text": [
      "Generating final predictions...\n"
     ]
    }
   ],
   "source": [
    "#10. Final Predictions and Submission\n",
    "# Generate test predictions using the best model\n",
    "print(\"Generating final predictions...\")\n",
    "\n",
    "if best_model_name == 'XGBoost':\n",
    "    # Retrain XGBoost on full training data\n",
    "    dfull = xgb.DMatrix(X, label=y)\n",
    "    dtest = xgb.DMatrix(X_test)\n",
    "    \n",
    "    full_xgb_model = xgb.train(\n",
    "        xgb_params, dfull,\n",
    "        num_boost_round=xgb_final.best_iteration\n",
    "    )\n",
    "    test_preds_log = full_xgb_model.predict(dtest)\n",
    "    \n",
    "else:  # CatBoost\n",
    "    # Retrain CatBoost on full training data\n",
    "    full_cat_model = CatBoostRegressor(\n",
    "        iterations=cat_model.get_param('iterations'),\n",
    "        learning_rate=cat_model.get_param('learning_rate'),\n",
    "        depth=cat_model.get_param('depth'),\n",
    "        random_seed=42,\n",
    "        verbose=False\n",
    "    )\n",
    "    full_cat_model.fit(X, y)\n",
    "    test_preds_log = full_cat_model.predict(X_test)\n"
   ]
  },
  {
   "cell_type": "code",
   "execution_count": 32,
   "id": "983e69ee",
   "metadata": {},
   "outputs": [
    {
     "name": "stdout",
     "output_type": "stream",
     "text": [
      "Submission saved to: submission_catboost_optimized.csv\n",
      "Submission shape: (3532, 2)\n",
      "\n",
      "First few predictions:\n"
     ]
    }
   ],
   "source": [
    "# Create and save submission file\n",
    "submission = pd.DataFrame({\n",
    "    'Item_Store_ID': test['Item_Store_ID'],\n",
    "    'Predicted_Returns': test_predictions\n",
    "})\n",
    "\n",
    "submission_filename = f\"submission_{best_model_name.lower()}_optimized.csv\"\n",
    "submission.to_csv(submission_filename, index=False)\n",
    "\n",
    "print(f\"Submission saved to: {submission_filename}\")\n",
    "print(f\"Submission shape: {submission.shape}\")\n",
    "print(\"\\nFirst few predictions:\")\n",
    "\n"
   ]
  },
  {
   "cell_type": "code",
   "execution_count": 33,
   "id": "9c308317",
   "metadata": {},
   "outputs": [
    {
     "data": {
      "text/html": [
       "<div>\n",
       "<style scoped>\n",
       "    .dataframe tbody tr th:only-of-type {\n",
       "        vertical-align: middle;\n",
       "    }\n",
       "\n",
       "    .dataframe tbody tr th {\n",
       "        vertical-align: top;\n",
       "    }\n",
       "\n",
       "    .dataframe thead th {\n",
       "        text-align: right;\n",
       "    }\n",
       "</style>\n",
       "<table border=\"1\" class=\"dataframe\">\n",
       "  <thead>\n",
       "    <tr style=\"text-align: right;\">\n",
       "      <th></th>\n",
       "      <th>Item_Store_ID</th>\n",
       "      <th>Predicted_Returns</th>\n",
       "    </tr>\n",
       "  </thead>\n",
       "  <tbody>\n",
       "    <tr>\n",
       "      <th>0</th>\n",
       "      <td>DRA59_BABATUNJI010</td>\n",
       "      <td>1448.060402</td>\n",
       "    </tr>\n",
       "    <tr>\n",
       "      <th>1</th>\n",
       "      <td>DRA59_BABATUNJI013</td>\n",
       "      <td>10100.657712</td>\n",
       "    </tr>\n",
       "    <tr>\n",
       "      <th>2</th>\n",
       "      <td>DRB01_BABATUNJI013</td>\n",
       "      <td>5259.024335</td>\n",
       "    </tr>\n",
       "    <tr>\n",
       "      <th>3</th>\n",
       "      <td>DRB13_BABATUNJI010</td>\n",
       "      <td>1154.333716</td>\n",
       "    </tr>\n",
       "    <tr>\n",
       "      <th>4</th>\n",
       "      <td>DRB13_BABATUNJI013</td>\n",
       "      <td>4969.162411</td>\n",
       "    </tr>\n",
       "    <tr>\n",
       "      <th>5</th>\n",
       "      <td>DRB25_BABATUNJI017</td>\n",
       "      <td>4494.546700</td>\n",
       "    </tr>\n",
       "    <tr>\n",
       "      <th>6</th>\n",
       "      <td>DRB25_BABATUNJI027</td>\n",
       "      <td>6218.621464</td>\n",
       "    </tr>\n",
       "    <tr>\n",
       "      <th>7</th>\n",
       "      <td>DRB25_BABATUNJI035</td>\n",
       "      <td>4898.263514</td>\n",
       "    </tr>\n",
       "    <tr>\n",
       "      <th>8</th>\n",
       "      <td>DRB48_BABATUNJI017</td>\n",
       "      <td>2252.006141</td>\n",
       "    </tr>\n",
       "    <tr>\n",
       "      <th>9</th>\n",
       "      <td>DRB48_BABATUNJI027</td>\n",
       "      <td>5273.486595</td>\n",
       "    </tr>\n",
       "  </tbody>\n",
       "</table>\n",
       "</div>"
      ],
      "text/plain": [
       "        Item_Store_ID  Predicted_Returns\n",
       "0  DRA59_BABATUNJI010        1448.060402\n",
       "1  DRA59_BABATUNJI013       10100.657712\n",
       "2  DRB01_BABATUNJI013        5259.024335\n",
       "3  DRB13_BABATUNJI010        1154.333716\n",
       "4  DRB13_BABATUNJI013        4969.162411\n",
       "5  DRB25_BABATUNJI017        4494.546700\n",
       "6  DRB25_BABATUNJI027        6218.621464\n",
       "7  DRB25_BABATUNJI035        4898.263514\n",
       "8  DRB48_BABATUNJI017        2252.006141\n",
       "9  DRB48_BABATUNJI027        5273.486595"
      ]
     },
     "execution_count": 33,
     "metadata": {},
     "output_type": "execute_result"
    }
   ],
   "source": [
    "submission.head(10)"
   ]
  },
  {
   "cell_type": "code",
   "execution_count": null,
   "id": "e6e7eb52",
   "metadata": {},
   "outputs": [],
   "source": []
  }
 ],
 "metadata": {
  "kernelspec": {
   "display_name": "Python 3 (ipykernel)",
   "language": "python",
   "name": "python3"
  },
  "language_info": {
   "codemirror_mode": {
    "name": "ipython",
    "version": 3
   },
   "file_extension": ".py",
   "mimetype": "text/x-python",
   "name": "python",
   "nbconvert_exporter": "python",
   "pygments_lexer": "ipython3",
   "version": "3.9.13"
  }
 },
 "nbformat": 4,
 "nbformat_minor": 5
}
