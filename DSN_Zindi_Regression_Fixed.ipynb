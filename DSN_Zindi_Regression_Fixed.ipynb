{
 "cells": [
  {
   "cell_type": "code",
   "execution_count": 7,
   "id": "2f95b895",
   "metadata": {},
   "outputs": [],
   "source": []
  },
  {
   "cell_type": "code",
   "execution_count": 5,
   "id": "8f1e2e39",
   "metadata": {},
   "outputs": [
    {
     "name": "stdout",
     "output_type": "stream",
     "text": [
      "Requirement already satisfied: xgboost in c:\\users\\user\\anaconda3\\lib\\site-packages (2.1.4)\n",
      "Requirement already satisfied: numpy in c:\\users\\user\\anaconda3\\lib\\site-packages (from xgboost) (1.21.5)\n",
      "Requirement already satisfied: scipy in c:\\users\\user\\anaconda3\\lib\\site-packages (from xgboost) (1.9.1)\n",
      "Note: you may need to restart the kernel to use updated packages.\n"
     ]
    }
   ],
   "source": [
    "pip install xgboost"
   ]
  },
  {
   "cell_type": "code",
   "execution_count": 2,
   "id": "75c48159",
   "metadata": {},
   "outputs": [],
   "source": [
    "# 1. Load the data\n",
    "train = pd.read_csv('train.csv')\n",
    "test = pd.read_csv('test.csv')"
   ]
  },
  {
   "cell_type": "code",
   "execution_count": 3,
   "id": "2255f7ff",
   "metadata": {},
   "outputs": [],
   "source": [
    "# 2. Tag datasets\n",
    "train['source'] = 'train'\n",
    "test['source'] = 'test'\n",
    "test['Item_Store_Returns'] = np.nan  # Placeholder"
   ]
  },
  {
   "cell_type": "code",
   "execution_count": 4,
   "id": "b5b1e667",
   "metadata": {},
   "outputs": [],
   "source": [
    "# 3. Combine datasets\n",
    "data = pd.concat([train, test], ignore_index=True)"
   ]
  },
  {
   "cell_type": "code",
   "execution_count": 5,
   "id": "24e2578d",
   "metadata": {},
   "outputs": [
    {
     "data": {
      "text/html": [
       "<div>\n",
       "<style scoped>\n",
       "    .dataframe tbody tr th:only-of-type {\n",
       "        vertical-align: middle;\n",
       "    }\n",
       "\n",
       "    .dataframe tbody tr th {\n",
       "        vertical-align: top;\n",
       "    }\n",
       "\n",
       "    .dataframe thead th {\n",
       "        text-align: right;\n",
       "    }\n",
       "</style>\n",
       "<table border=\"1\" class=\"dataframe\">\n",
       "  <thead>\n",
       "    <tr style=\"text-align: right;\">\n",
       "      <th></th>\n",
       "      <th>Item_ID</th>\n",
       "      <th>Store_ID</th>\n",
       "      <th>Item_Store_ID</th>\n",
       "      <th>Item_Weight</th>\n",
       "      <th>Item_Sugar_Content</th>\n",
       "      <th>Item_Visibility</th>\n",
       "      <th>Item_Type</th>\n",
       "      <th>Item_Price</th>\n",
       "      <th>Store_Start_Year</th>\n",
       "      <th>Store_Size</th>\n",
       "      <th>Store_Location_Type</th>\n",
       "      <th>Store_Type</th>\n",
       "      <th>Item_Store_Returns</th>\n",
       "      <th>source</th>\n",
       "    </tr>\n",
       "  </thead>\n",
       "  <tbody>\n",
       "    <tr>\n",
       "      <th>0</th>\n",
       "      <td>DRA12</td>\n",
       "      <td>BABATUNJI010</td>\n",
       "      <td>DRA12_BABATUNJI010</td>\n",
       "      <td>11.6</td>\n",
       "      <td>Low Sugar</td>\n",
       "      <td>0.068535</td>\n",
       "      <td>Soft Drinks</td>\n",
       "      <td>357.54</td>\n",
       "      <td>2005</td>\n",
       "      <td>NaN</td>\n",
       "      <td>Cluster 3</td>\n",
       "      <td>Grocery Store</td>\n",
       "      <td>709.08</td>\n",
       "      <td>train</td>\n",
       "    </tr>\n",
       "    <tr>\n",
       "      <th>1</th>\n",
       "      <td>DRA12</td>\n",
       "      <td>BABATUNJI013</td>\n",
       "      <td>DRA12_BABATUNJI013</td>\n",
       "      <td>11.6</td>\n",
       "      <td>Low Sugar</td>\n",
       "      <td>0.040912</td>\n",
       "      <td>Soft Drinks</td>\n",
       "      <td>355.79</td>\n",
       "      <td>1994</td>\n",
       "      <td>High</td>\n",
       "      <td>Cluster 3</td>\n",
       "      <td>Supermarket Type1</td>\n",
       "      <td>6381.69</td>\n",
       "      <td>train</td>\n",
       "    </tr>\n",
       "    <tr>\n",
       "      <th>2</th>\n",
       "      <td>DRA12</td>\n",
       "      <td>BABATUNJI017</td>\n",
       "      <td>DRA12_BABATUNJI017</td>\n",
       "      <td>11.6</td>\n",
       "      <td>Low Sugar</td>\n",
       "      <td>0.041178</td>\n",
       "      <td>Soft Drinks</td>\n",
       "      <td>350.79</td>\n",
       "      <td>2014</td>\n",
       "      <td>NaN</td>\n",
       "      <td>Cluster 2</td>\n",
       "      <td>Supermarket Type1</td>\n",
       "      <td>6381.69</td>\n",
       "      <td>train</td>\n",
       "    </tr>\n",
       "    <tr>\n",
       "      <th>3</th>\n",
       "      <td>DRA12</td>\n",
       "      <td>BABATUNJI018</td>\n",
       "      <td>DRA12_BABATUNJI018</td>\n",
       "      <td>11.6</td>\n",
       "      <td>Low Sugar</td>\n",
       "      <td>0.041113</td>\n",
       "      <td>Soft Drinks</td>\n",
       "      <td>355.04</td>\n",
       "      <td>2016</td>\n",
       "      <td>Medium</td>\n",
       "      <td>Cluster 3</td>\n",
       "      <td>Supermarket Type2</td>\n",
       "      <td>2127.23</td>\n",
       "      <td>train</td>\n",
       "    </tr>\n",
       "    <tr>\n",
       "      <th>4</th>\n",
       "      <td>DRA12</td>\n",
       "      <td>BABATUNJI035</td>\n",
       "      <td>DRA12_BABATUNJI035</td>\n",
       "      <td>11.6</td>\n",
       "      <td>Ultra Low Sugar</td>\n",
       "      <td>0.000000</td>\n",
       "      <td>Soft Drinks</td>\n",
       "      <td>354.79</td>\n",
       "      <td>2011</td>\n",
       "      <td>Small</td>\n",
       "      <td>Cluster 2</td>\n",
       "      <td>Supermarket Type1</td>\n",
       "      <td>2481.77</td>\n",
       "      <td>train</td>\n",
       "    </tr>\n",
       "  </tbody>\n",
       "</table>\n",
       "</div>"
      ],
      "text/plain": [
       "  Item_ID      Store_ID       Item_Store_ID  Item_Weight Item_Sugar_Content  \\\n",
       "0   DRA12  BABATUNJI010  DRA12_BABATUNJI010         11.6          Low Sugar   \n",
       "1   DRA12  BABATUNJI013  DRA12_BABATUNJI013         11.6          Low Sugar   \n",
       "2   DRA12  BABATUNJI017  DRA12_BABATUNJI017         11.6          Low Sugar   \n",
       "3   DRA12  BABATUNJI018  DRA12_BABATUNJI018         11.6          Low Sugar   \n",
       "4   DRA12  BABATUNJI035  DRA12_BABATUNJI035         11.6    Ultra Low Sugar   \n",
       "\n",
       "   Item_Visibility    Item_Type  Item_Price  Store_Start_Year Store_Size  \\\n",
       "0         0.068535  Soft Drinks      357.54              2005        NaN   \n",
       "1         0.040912  Soft Drinks      355.79              1994       High   \n",
       "2         0.041178  Soft Drinks      350.79              2014        NaN   \n",
       "3         0.041113  Soft Drinks      355.04              2016     Medium   \n",
       "4         0.000000  Soft Drinks      354.79              2011      Small   \n",
       "\n",
       "  Store_Location_Type         Store_Type  Item_Store_Returns source  \n",
       "0           Cluster 3      Grocery Store              709.08  train  \n",
       "1           Cluster 3  Supermarket Type1             6381.69  train  \n",
       "2           Cluster 2  Supermarket Type1             6381.69  train  \n",
       "3           Cluster 3  Supermarket Type2             2127.23  train  \n",
       "4           Cluster 2  Supermarket Type1             2481.77  train  "
      ]
     },
     "execution_count": 5,
     "metadata": {},
     "output_type": "execute_result"
    }
   ],
   "source": [
    "data.head()"
   ]
  },
  {
   "cell_type": "code",
   "execution_count": 6,
   "id": "2bfaa84c",
   "metadata": {},
   "outputs": [
    {
     "name": "stdout",
     "output_type": "stream",
     "text": [
      "<class 'pandas.core.frame.DataFrame'>\n",
      "RangeIndex: 8522 entries, 0 to 8521\n",
      "Data columns (total 14 columns):\n",
      " #   Column               Non-Null Count  Dtype  \n",
      "---  ------               --------------  -----  \n",
      " 0   Item_ID              8522 non-null   object \n",
      " 1   Store_ID             8522 non-null   object \n",
      " 2   Item_Store_ID        8522 non-null   object \n",
      " 3   Item_Weight          7059 non-null   float64\n",
      " 4   Item_Sugar_Content   8522 non-null   object \n",
      " 5   Item_Visibility      8522 non-null   float64\n",
      " 6   Item_Type            8522 non-null   object \n",
      " 7   Item_Price           8522 non-null   float64\n",
      " 8   Store_Start_Year     8522 non-null   int64  \n",
      " 9   Store_Size           6113 non-null   object \n",
      " 10  Store_Location_Type  8522 non-null   object \n",
      " 11  Store_Type           8522 non-null   object \n",
      " 12  Item_Store_Returns   4990 non-null   float64\n",
      " 13  source               8522 non-null   object \n",
      "dtypes: float64(4), int64(1), object(9)\n",
      "memory usage: 932.2+ KB\n"
     ]
    }
   ],
   "source": [
    "data.info()"
   ]
  },
  {
   "cell_type": "code",
   "execution_count": 7,
   "id": "f55b8397",
   "metadata": {},
   "outputs": [
    {
     "data": {
      "text/plain": [
       "Item_ID                   0\n",
       "Store_ID                  0\n",
       "Item_Store_ID             0\n",
       "Item_Weight            1463\n",
       "Item_Sugar_Content        0\n",
       "Item_Visibility           0\n",
       "Item_Type                 0\n",
       "Item_Price                0\n",
       "Store_Start_Year          0\n",
       "Store_Size             2409\n",
       "Store_Location_Type       0\n",
       "Store_Type                0\n",
       "Item_Store_Returns     3532\n",
       "source                    0\n",
       "dtype: int64"
      ]
     },
     "execution_count": 7,
     "metadata": {},
     "output_type": "execute_result"
    }
   ],
   "source": [
    "data.isnull().sum()"
   ]
  },
  {
   "cell_type": "code",
   "execution_count": 8,
   "id": "522e71a5",
   "metadata": {},
   "outputs": [
    {
     "data": {
      "text/plain": [
       "0"
      ]
     },
     "execution_count": 8,
     "metadata": {},
     "output_type": "execute_result"
    }
   ],
   "source": [
    "data.duplicated().sum()"
   ]
  },
  {
   "cell_type": "code",
   "execution_count": 9,
   "id": "aa977fe6",
   "metadata": {},
   "outputs": [],
   "source": [
    "# 4. Fill missing values\n",
    "numeric_cols = ['Item_Weight', 'Item_Visibility', 'Item_Price']\n",
    "for col in numeric_cols:\n",
    "    data[col].fillna(data[col].mean(), inplace=True)\n",
    "\n",
    "data['Store_Size'].fillna(data['Store_Size'].mode()[0], inplace=True)"
   ]
  },
  {
   "cell_type": "code",
   "execution_count": 10,
   "id": "29a92abc",
   "metadata": {},
   "outputs": [
    {
     "data": {
      "text/plain": [
       "Item_ID                   0\n",
       "Store_ID                  0\n",
       "Item_Store_ID             0\n",
       "Item_Weight               0\n",
       "Item_Sugar_Content        0\n",
       "Item_Visibility           0\n",
       "Item_Type                 0\n",
       "Item_Price                0\n",
       "Store_Start_Year          0\n",
       "Store_Size                0\n",
       "Store_Location_Type       0\n",
       "Store_Type                0\n",
       "Item_Store_Returns     3532\n",
       "source                    0\n",
       "dtype: int64"
      ]
     },
     "execution_count": 10,
     "metadata": {},
     "output_type": "execute_result"
    }
   ],
   "source": [
    "data.isnull().sum()"
   ]
  },
  {
   "cell_type": "code",
   "execution_count": 11,
   "id": "0ab048ec",
   "metadata": {},
   "outputs": [],
   "source": [
    "# 5. Feature Engineering\n",
    "data['Store_Age'] = 2025 - data['Store_Start_Year']\n",
    "data['Price_Visibility_Ratio'] = data['Item_Price'] / (data['Item_Visibility'] + 1e-5)\n",
    "data['Item_Visibility'] = data['Item_Visibility'].clip(upper=0.5)  # cap outliers\n",
    "data['Item_Price_per_Weight'] = data['Item_Price'] / data['Item_Weight']\n",
    "data['Store_Exposure'] = data['Item_Visibility'] * data['Store_Age']\n",
    "data['Item_Weight_Category'] = pd.cut(data['Item_Weight'], bins=[0, 5, 10, 20, 100],\n",
    "                                      labels=['Very_Light', 'Light', 'Medium', 'Heavy'])\n"
   ]
  },
  {
   "cell_type": "code",
   "execution_count": 12,
   "id": "6f8c1055",
   "metadata": {},
   "outputs": [
    {
     "data": {
      "text/html": [
       "<div>\n",
       "<style scoped>\n",
       "    .dataframe tbody tr th:only-of-type {\n",
       "        vertical-align: middle;\n",
       "    }\n",
       "\n",
       "    .dataframe tbody tr th {\n",
       "        vertical-align: top;\n",
       "    }\n",
       "\n",
       "    .dataframe thead th {\n",
       "        text-align: right;\n",
       "    }\n",
       "</style>\n",
       "<table border=\"1\" class=\"dataframe\">\n",
       "  <thead>\n",
       "    <tr style=\"text-align: right;\">\n",
       "      <th></th>\n",
       "      <th>Item_ID</th>\n",
       "      <th>Store_ID</th>\n",
       "      <th>Item_Store_ID</th>\n",
       "      <th>Item_Weight</th>\n",
       "      <th>Item_Sugar_Content</th>\n",
       "      <th>Item_Visibility</th>\n",
       "      <th>Item_Type</th>\n",
       "      <th>Item_Price</th>\n",
       "      <th>Store_Start_Year</th>\n",
       "      <th>Store_Size</th>\n",
       "      <th>Store_Location_Type</th>\n",
       "      <th>Store_Type</th>\n",
       "      <th>Item_Store_Returns</th>\n",
       "      <th>source</th>\n",
       "      <th>Store_Age</th>\n",
       "      <th>Price_Visibility_Ratio</th>\n",
       "      <th>Item_Price_per_Weight</th>\n",
       "      <th>Store_Exposure</th>\n",
       "      <th>Item_Weight_Category</th>\n",
       "    </tr>\n",
       "  </thead>\n",
       "  <tbody>\n",
       "    <tr>\n",
       "      <th>0</th>\n",
       "      <td>DRA12</td>\n",
       "      <td>BABATUNJI010</td>\n",
       "      <td>DRA12_BABATUNJI010</td>\n",
       "      <td>11.6</td>\n",
       "      <td>Low Sugar</td>\n",
       "      <td>0.068535</td>\n",
       "      <td>Soft Drinks</td>\n",
       "      <td>357.54</td>\n",
       "      <td>2005</td>\n",
       "      <td>Medium</td>\n",
       "      <td>Cluster 3</td>\n",
       "      <td>Grocery Store</td>\n",
       "      <td>709.08</td>\n",
       "      <td>train</td>\n",
       "      <td>20</td>\n",
       "      <td>5.216132e+03</td>\n",
       "      <td>30.822414</td>\n",
       "      <td>1.370701</td>\n",
       "      <td>Medium</td>\n",
       "    </tr>\n",
       "    <tr>\n",
       "      <th>1</th>\n",
       "      <td>DRA12</td>\n",
       "      <td>BABATUNJI013</td>\n",
       "      <td>DRA12_BABATUNJI013</td>\n",
       "      <td>11.6</td>\n",
       "      <td>Low Sugar</td>\n",
       "      <td>0.040912</td>\n",
       "      <td>Soft Drinks</td>\n",
       "      <td>355.79</td>\n",
       "      <td>1994</td>\n",
       "      <td>High</td>\n",
       "      <td>Cluster 3</td>\n",
       "      <td>Supermarket Type1</td>\n",
       "      <td>6381.69</td>\n",
       "      <td>train</td>\n",
       "      <td>31</td>\n",
       "      <td>8.694383e+03</td>\n",
       "      <td>30.671552</td>\n",
       "      <td>1.268267</td>\n",
       "      <td>Medium</td>\n",
       "    </tr>\n",
       "    <tr>\n",
       "      <th>2</th>\n",
       "      <td>DRA12</td>\n",
       "      <td>BABATUNJI017</td>\n",
       "      <td>DRA12_BABATUNJI017</td>\n",
       "      <td>11.6</td>\n",
       "      <td>Low Sugar</td>\n",
       "      <td>0.041178</td>\n",
       "      <td>Soft Drinks</td>\n",
       "      <td>350.79</td>\n",
       "      <td>2014</td>\n",
       "      <td>Medium</td>\n",
       "      <td>Cluster 2</td>\n",
       "      <td>Supermarket Type1</td>\n",
       "      <td>6381.69</td>\n",
       "      <td>train</td>\n",
       "      <td>11</td>\n",
       "      <td>8.516903e+03</td>\n",
       "      <td>30.240517</td>\n",
       "      <td>0.452953</td>\n",
       "      <td>Medium</td>\n",
       "    </tr>\n",
       "    <tr>\n",
       "      <th>3</th>\n",
       "      <td>DRA12</td>\n",
       "      <td>BABATUNJI018</td>\n",
       "      <td>DRA12_BABATUNJI018</td>\n",
       "      <td>11.6</td>\n",
       "      <td>Low Sugar</td>\n",
       "      <td>0.041113</td>\n",
       "      <td>Soft Drinks</td>\n",
       "      <td>355.04</td>\n",
       "      <td>2016</td>\n",
       "      <td>Medium</td>\n",
       "      <td>Cluster 3</td>\n",
       "      <td>Supermarket Type2</td>\n",
       "      <td>2127.23</td>\n",
       "      <td>train</td>\n",
       "      <td>9</td>\n",
       "      <td>8.633676e+03</td>\n",
       "      <td>30.606897</td>\n",
       "      <td>0.370014</td>\n",
       "      <td>Medium</td>\n",
       "    </tr>\n",
       "    <tr>\n",
       "      <th>4</th>\n",
       "      <td>DRA12</td>\n",
       "      <td>BABATUNJI035</td>\n",
       "      <td>DRA12_BABATUNJI035</td>\n",
       "      <td>11.6</td>\n",
       "      <td>Ultra Low Sugar</td>\n",
       "      <td>0.000000</td>\n",
       "      <td>Soft Drinks</td>\n",
       "      <td>354.79</td>\n",
       "      <td>2011</td>\n",
       "      <td>Small</td>\n",
       "      <td>Cluster 2</td>\n",
       "      <td>Supermarket Type1</td>\n",
       "      <td>2481.77</td>\n",
       "      <td>train</td>\n",
       "      <td>14</td>\n",
       "      <td>3.547900e+07</td>\n",
       "      <td>30.585345</td>\n",
       "      <td>0.000000</td>\n",
       "      <td>Medium</td>\n",
       "    </tr>\n",
       "  </tbody>\n",
       "</table>\n",
       "</div>"
      ],
      "text/plain": [
       "  Item_ID      Store_ID       Item_Store_ID  Item_Weight Item_Sugar_Content  \\\n",
       "0   DRA12  BABATUNJI010  DRA12_BABATUNJI010         11.6          Low Sugar   \n",
       "1   DRA12  BABATUNJI013  DRA12_BABATUNJI013         11.6          Low Sugar   \n",
       "2   DRA12  BABATUNJI017  DRA12_BABATUNJI017         11.6          Low Sugar   \n",
       "3   DRA12  BABATUNJI018  DRA12_BABATUNJI018         11.6          Low Sugar   \n",
       "4   DRA12  BABATUNJI035  DRA12_BABATUNJI035         11.6    Ultra Low Sugar   \n",
       "\n",
       "   Item_Visibility    Item_Type  Item_Price  Store_Start_Year Store_Size  \\\n",
       "0         0.068535  Soft Drinks      357.54              2005     Medium   \n",
       "1         0.040912  Soft Drinks      355.79              1994       High   \n",
       "2         0.041178  Soft Drinks      350.79              2014     Medium   \n",
       "3         0.041113  Soft Drinks      355.04              2016     Medium   \n",
       "4         0.000000  Soft Drinks      354.79              2011      Small   \n",
       "\n",
       "  Store_Location_Type         Store_Type  Item_Store_Returns source  \\\n",
       "0           Cluster 3      Grocery Store              709.08  train   \n",
       "1           Cluster 3  Supermarket Type1             6381.69  train   \n",
       "2           Cluster 2  Supermarket Type1             6381.69  train   \n",
       "3           Cluster 3  Supermarket Type2             2127.23  train   \n",
       "4           Cluster 2  Supermarket Type1             2481.77  train   \n",
       "\n",
       "   Store_Age  Price_Visibility_Ratio  Item_Price_per_Weight  Store_Exposure  \\\n",
       "0         20            5.216132e+03              30.822414        1.370701   \n",
       "1         31            8.694383e+03              30.671552        1.268267   \n",
       "2         11            8.516903e+03              30.240517        0.452953   \n",
       "3          9            8.633676e+03              30.606897        0.370014   \n",
       "4         14            3.547900e+07              30.585345        0.000000   \n",
       "\n",
       "  Item_Weight_Category  \n",
       "0               Medium  \n",
       "1               Medium  \n",
       "2               Medium  \n",
       "3               Medium  \n",
       "4               Medium  "
      ]
     },
     "execution_count": 12,
     "metadata": {},
     "output_type": "execute_result"
    }
   ],
   "source": [
    "data.head()"
   ]
  },
  {
   "cell_type": "code",
   "execution_count": 13,
   "id": "37450c26",
   "metadata": {},
   "outputs": [],
   "source": [
    "# 6. Encode categorical variables\n",
    "categorical_cols = [\n",
    "    'Item_ID', 'Store_ID', 'Item_Store_ID', 'Item_Sugar_Content',\n",
    "    'Item_Type', 'Store_Size', 'Store_Location_Type', 'Store_Type'\n",
    "]"
   ]
  },
  {
   "cell_type": "code",
   "execution_count": 14,
   "id": "39a97ba9",
   "metadata": {},
   "outputs": [],
   "source": [
    "# Label encode high-cardinality IDs, one-hot for others\n",
    "label_enc = LabelEncoder()\n",
    "for col in ['Item_ID', 'Store_ID', 'Item_Store_ID']:\n",
    "    data[col] = label_enc.fit_transform(data[col].astype(str))\n",
    "\n",
    "data = pd.get_dummies(data, columns=[\n",
    "    'Item_Sugar_Content', 'Item_Type', 'Store_Size', 'Store_Location_Type', 'Store_Type'\n",
    "])"
   ]
  },
  {
   "cell_type": "code",
   "execution_count": 15,
   "id": "6acee761",
   "metadata": {},
   "outputs": [],
   "source": [
    "# 7. Separate back to train/test\n",
    "train_final = data[data['source'] == 'train'].drop(['source'], axis=1)\n",
    "test_final = data[data['source'] == 'test'].drop(['source', 'Item_Store_Returns'], axis=1)"
   ]
  },
  {
   "cell_type": "code",
   "execution_count": 16,
   "id": "f7859e1d",
   "metadata": {},
   "outputs": [],
   "source": [
    "# Define X and y\n",
    "X = train_final.drop('Item_Store_Returns', axis=1)\n",
    "y = np.log1p(train_final['Item_Store_Returns'].astype(float))  # log1p transform"
   ]
  },
  {
   "cell_type": "code",
   "execution_count": null,
   "id": "57be3c55",
   "metadata": {},
   "outputs": [],
   "source": [
    "# Fixed Task Type (hardcoded to regression)\n",
    "task_type = 'regression'\n",
    "print(f\"Detected Task Type: {task_type.upper()}\")"
   ]
  },
  {
   "cell_type": "code",
   "execution_count": null,
   "id": "c70d125d",
   "metadata": {},
   "outputs": [],
   "source": []
  },
  {
   "cell_type": "code",
   "execution_count": 27,
   "id": "1018a51e",
   "metadata": {},
   "outputs": [],
   "source": [
    "# 10. Train/Test split for local validation\n",
    "X_train, X_val, y_train, y_val = train_test_split(X, y, test_size=0.2, random_state=42)"
   ]
  },
  {
   "cell_type": "code",
   "execution_count": null,
   "id": "4d70143d",
   "metadata": {},
   "outputs": [],
   "source": []
  },
  {
   "cell_type": "code",
   "execution_count": 28,
   "id": "70befd01",
   "metadata": {},
   "outputs": [
    {
     "name": "stdout",
     "output_type": "stream",
     "text": [
      "y_train dtype: float64\n"
     ]
    }
   ],
   "source": [
    "print(\"y_train dtype:\", y_train.dtype)\n"
   ]
  },
  {
   "cell_type": "code",
   "execution_count": 29,
   "id": "4fa1d115",
   "metadata": {},
   "outputs": [
    {
     "name": "stdout",
     "output_type": "stream",
     "text": [
      "Total missing values in X_train: 0\n"
     ]
    }
   ],
   "source": [
    "print(\"Total missing values in X_train:\", X_train.isnull().sum().sum())"
   ]
  },
  {
   "cell_type": "code",
   "execution_count": null,
   "id": "3fa84d2a",
   "metadata": {},
   "outputs": [],
   "source": [
    "\n"
   ]
  },
  {
   "cell_type": "code",
   "execution_count": null,
   "id": "7c6546c8",
   "metadata": {},
   "outputs": [],
   "source": [
    "#GridSearchCV setup for regression only\n",
    "from sklearn.ensemble import RandomForestRegressor\n",
    "from sklearn.model_selection import GridSearchCV\n",
    "\n",
    "model = RandomForestRegressor(random_state=42)\n",
    "param_grid = {\n",
    "    'n_estimators': [100, 200],\n",
    "    'max_depth': [None, 10, 20],\n",
    "    'min_samples_split': [2, 5]\n",
    "}\n",
    "\n",
    "grid = GridSearchCV(model, param_grid, cv=3, scoring='neg_mean_squared_error')\n",
    "grid.fit(X_train, y_train)\n",
    "\n",
    "best_model = grid.best_estimator_\n",
    "print(f\"Best Params: {grid.best_params_}\")"
   ]
  },
  {
   "cell_type": "code",
   "execution_count": 60,
   "id": "23bd9f2e",
   "metadata": {},
   "outputs": [
    {
     "name": "stdout",
     "output_type": "stream",
     "text": [
      "Validation RMSE: 2983.948\n"
     ]
    }
   ],
   "source": [
    "# 12. Validation score\n",
    "y_pred_val = best_model.predict(X_val)\n",
    "if task_type == 'regression':\n",
    "    rmse = np.sqrt(mean_squared_error(y_val, y_pred_val))\n",
    "    print(f\"Validation RMSE: {rmse:.3f}\")\n",
    "else:\n",
    "    acc = accuracy_score(y_val, y_pred_val)\n",
    "    print(f\"Validation Accuracy: {acc:.3f}\")\n"
   ]
  },
  {
   "cell_type": "code",
   "execution_count": 61,
   "id": "e3fa1634",
   "metadata": {},
   "outputs": [
    {
     "name": "stdout",
     "output_type": "stream",
     "text": [
      "CV Score: 9290647.220463531\n"
     ]
    }
   ],
   "source": [
    "# 13. Cross-validation (optional)\n",
    "cv_scores = cross_val_score(best_model, X, y, cv=5, scoring='neg_mean_squared_error' if task_type == 'regression' else 'accuracy')\n",
    "print(\"CV Score:\", (-cv_scores.mean()) if task_type == 'regression' else cv_scores.mean())\n"
   ]
  },
  {
   "cell_type": "code",
   "execution_count": 62,
   "id": "e08a0aa4",
   "metadata": {},
   "outputs": [],
   "source": [
    "# 14. Final prediction on test\n",
    "predictions = best_model.predict(test_final)\n"
   ]
  },
  {
   "cell_type": "code",
   "execution_count": 63,
   "id": "639cd973",
   "metadata": {},
   "outputs": [
    {
     "name": "stdout",
     "output_type": "stream",
     "text": [
      "Predictions saved to 'submission.csv'\n"
     ]
    }
   ],
   "source": [
    "# 15. Output to CSV\n",
    "output = pd.DataFrame({\n",
    "    'Item_Store_ID': test['Item_Store_ID'],\n",
    "    'Predicted_Returns': predictions\n",
    "})\n",
    "output.to_csv('submission.csv', index=False)\n",
    "print(\"Predictions saved to 'submission.csv'\")"
   ]
  },
  {
   "cell_type": "code",
   "execution_count": null,
   "id": "0024a92c",
   "metadata": {},
   "outputs": [],
   "source": []
  },
  {
   "cell_type": "code",
   "execution_count": null,
   "id": "dc263bec",
   "metadata": {},
   "outputs": [],
   "source": [
    "\n",
    "\n",
    "\n",
    "\n",
    "\n",
    "\n",
    "\n",
    "\n",
    "# 5. Separate train/test\n",
    "train_final = data[data['source'] == 'train'].drop(['source'], axis=1)\n",
    "test_final = data[data['source'] == 'test'].drop(['source', 'Item_Store_Returns'], axis=1)\n",
    "\n",
    "X = train_final.drop('Item_Store_Returns', axis=1)\n",
    "y = np.log1p(train_final['Item_Store_Returns'].astype(float))  # log1p transform\n",
    "\n",
    "# 6. Train-test split for validation\n",
    "X_train, X_val, y_train, y_val = train_test_split(X, y, test_size=0.2, random_state=42)\n",
    "\n"
   ]
  },
  {
   "cell_type": "code",
   "execution_count": null,
   "id": "497a967d",
   "metadata": {},
   "outputs": [],
   "source": [
    "# 7. XGBoost model\n",
    "model = xgb.XGBRegressor(\n",
    "    n_estimators=300,\n",
    "    max_depth=6,\n",
    "    learning_rate=0.05,\n",
    "    subsample=0.8,\n",
    "    colsample_bytree=0.8,\n",
    "    random_state=42\n",
    ")\n",
    "model.fit(X_train, y_train, eval_set=[(X_val, y_val)], early_stopping_rounds=20, verbose=False)\n"
   ]
  },
  {
   "cell_type": "code",
   "execution_count": null,
   "id": "c00982a1",
   "metadata": {},
   "outputs": [],
   "source": [
    "\n",
    "# 8. Predict and evaluate\n",
    "val_preds = model.predict(X_val)\n",
    "rmse = mean_squared_error(np.expm1(y_val), np.expm1(val_preds), squared=False)\n",
    "print(\"Improved RMSE on validation set:\", round(rmse, 4))\n",
    "\n",
    "# 9. Retrain on full data and predict test\n",
    "model.fit(X, y)\n",
    "test_preds = np.expm1(model.predict(test_final))  # Inverse log1p\n"
   ]
  },
  {
   "cell_type": "code",
   "execution_count": null,
   "id": "7d245d47",
   "metadata": {},
   "outputs": [],
   "source": [
    "# 10. Save predictions\n",
    "submission = pd.DataFrame({\n",
    "    'Item_Store_ID': test['Item_Store_ID'],\n",
    "    'Predicted_Returns': test_preds\n",
    "})\n",
    "submission.to_csv('submission_xgboost.csv', index=False)\n",
    "\n",
    "print(\"Submission saved as 'submission_xgboost.csv'\")\n"
   ]
  },
  {
   "cell_type": "code",
   "execution_count": null,
   "id": "ba38e6dd",
   "metadata": {},
   "outputs": [],
   "source": [
    "#GridSearchCV setup for regression only\n",
    "from sklearn.ensemble import RandomForestRegressor\n",
    "from sklearn.model_selection import GridSearchCV\n",
    "\n",
    "model = RandomForestRegressor(random_state=42)\n",
    "param_grid = {\n",
    "    'n_estimators': [100, 200],\n",
    "    'max_depth': [None, 10, 20],\n",
    "    'min_samples_split': [2, 5]\n",
    "}\n",
    "\n",
    "grid = GridSearchCV(model, param_grid, cv=3, scoring='neg_mean_squared_error')\n",
    "grid.fit(X_train, y_train)\n",
    "\n",
    "best_model = grid.best_estimator_\n",
    "print(f\"Best Params: {grid.best_params_}\")"
   ]
  }
 ],
 "metadata": {
  "kernelspec": {
   "display_name": "Python 3 (ipykernel)",
   "language": "python",
   "name": "python3"
  },
  "language_info": {
   "codemirror_mode": {
    "name": "ipython",
    "version": 3
   },
   "file_extension": ".py",
   "mimetype": "text/x-python",
   "name": "python",
   "nbconvert_exporter": "python",
   "pygments_lexer": "ipython3",
   "version": "3.9.13"
  }
 },
 "nbformat": 4,
 "nbformat_minor": 5
}
