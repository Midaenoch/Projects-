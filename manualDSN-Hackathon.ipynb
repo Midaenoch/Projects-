{
 "cells": [
  {
   "cell_type": "code",
   "execution_count": 60,
   "id": "29e4073a",
   "metadata": {},
   "outputs": [],
   "source": [
    "#importing libraries\n",
    "import numpy as np\n",
    "import pandas as pd\n",
    "import matplotlib.pyplot as plt\n",
    "import seaborn as sns\n",
    "from sklearn.model_selection import GridSearchCV\n",
    "from sklearn.model_selection import train_test_split\n",
    "from sklearn.preprocessing import StandardScaler\n",
    "from sklearn.preprocessing import LabelEncoder\n",
    "from xgboost import XGBRegressor\n",
    "from sklearn.ensemble import RandomForestRegressor\n",
    "from sklearn.metrics import mean_squared_error"
   ]
  },
  {
   "cell_type": "code",
   "execution_count": 61,
   "id": "6d8dbe5b",
   "metadata": {},
   "outputs": [],
   "source": [
    "train =pd.read_csv('train.csv')"
   ]
  },
  {
   "cell_type": "code",
   "execution_count": 62,
   "id": "a9fe90a8",
   "metadata": {},
   "outputs": [],
   "source": [
    "test =pd.read_csv('test.csv')"
   ]
  },
  {
   "cell_type": "code",
   "execution_count": 63,
   "id": "24ffb5ad",
   "metadata": {},
   "outputs": [],
   "source": [
    "train['source'] = 'train'\n",
    "test['source'] = 'test'\n",
    "test['Item_Store_Returns'] = np.nan"
   ]
  },
  {
   "cell_type": "code",
   "execution_count": 64,
   "id": "67bcc0d9",
   "metadata": {},
   "outputs": [
    {
     "data": {
      "text/html": [
       "<div>\n",
       "<style scoped>\n",
       "    .dataframe tbody tr th:only-of-type {\n",
       "        vertical-align: middle;\n",
       "    }\n",
       "\n",
       "    .dataframe tbody tr th {\n",
       "        vertical-align: top;\n",
       "    }\n",
       "\n",
       "    .dataframe thead th {\n",
       "        text-align: right;\n",
       "    }\n",
       "</style>\n",
       "<table border=\"1\" class=\"dataframe\">\n",
       "  <thead>\n",
       "    <tr style=\"text-align: right;\">\n",
       "      <th></th>\n",
       "      <th>Item_ID</th>\n",
       "      <th>Store_ID</th>\n",
       "      <th>Item_Store_ID</th>\n",
       "      <th>Item_Weight</th>\n",
       "      <th>Item_Sugar_Content</th>\n",
       "      <th>Item_Visibility</th>\n",
       "      <th>Item_Type</th>\n",
       "      <th>Item_Price</th>\n",
       "      <th>Store_Start_Year</th>\n",
       "      <th>Store_Size</th>\n",
       "      <th>Store_Location_Type</th>\n",
       "      <th>Store_Type</th>\n",
       "      <th>source</th>\n",
       "      <th>Item_Store_Returns</th>\n",
       "    </tr>\n",
       "  </thead>\n",
       "  <tbody>\n",
       "    <tr>\n",
       "      <th>0</th>\n",
       "      <td>DRA59</td>\n",
       "      <td>BABATUNJI010</td>\n",
       "      <td>DRA59_BABATUNJI010</td>\n",
       "      <td>8.270</td>\n",
       "      <td>Normal Sugar</td>\n",
       "      <td>0.214125</td>\n",
       "      <td>Soft Drinks</td>\n",
       "      <td>459.98</td>\n",
       "      <td>2005</td>\n",
       "      <td>NaN</td>\n",
       "      <td>Cluster 3</td>\n",
       "      <td>Grocery Store</td>\n",
       "      <td>test</td>\n",
       "      <td>NaN</td>\n",
       "    </tr>\n",
       "    <tr>\n",
       "      <th>1</th>\n",
       "      <td>DRA59</td>\n",
       "      <td>BABATUNJI013</td>\n",
       "      <td>DRA59_BABATUNJI013</td>\n",
       "      <td>8.270</td>\n",
       "      <td>Normal Sugar</td>\n",
       "      <td>0.127821</td>\n",
       "      <td>Soft Drinks</td>\n",
       "      <td>464.98</td>\n",
       "      <td>1994</td>\n",
       "      <td>High</td>\n",
       "      <td>Cluster 3</td>\n",
       "      <td>Supermarket Type1</td>\n",
       "      <td>test</td>\n",
       "      <td>NaN</td>\n",
       "    </tr>\n",
       "    <tr>\n",
       "      <th>2</th>\n",
       "      <td>DRB01</td>\n",
       "      <td>BABATUNJI013</td>\n",
       "      <td>DRB01_BABATUNJI013</td>\n",
       "      <td>7.390</td>\n",
       "      <td>Low Sugar</td>\n",
       "      <td>0.082171</td>\n",
       "      <td>Soft Drinks</td>\n",
       "      <td>477.38</td>\n",
       "      <td>1994</td>\n",
       "      <td>High</td>\n",
       "      <td>Cluster 3</td>\n",
       "      <td>Supermarket Type1</td>\n",
       "      <td>test</td>\n",
       "      <td>NaN</td>\n",
       "    </tr>\n",
       "    <tr>\n",
       "      <th>3</th>\n",
       "      <td>DRB13</td>\n",
       "      <td>BABATUNJI010</td>\n",
       "      <td>DRB13_BABATUNJI010</td>\n",
       "      <td>6.115</td>\n",
       "      <td>Normal Sugar</td>\n",
       "      <td>0.011791</td>\n",
       "      <td>Soft Drinks</td>\n",
       "      <td>472.63</td>\n",
       "      <td>2005</td>\n",
       "      <td>NaN</td>\n",
       "      <td>Cluster 3</td>\n",
       "      <td>Grocery Store</td>\n",
       "      <td>test</td>\n",
       "      <td>NaN</td>\n",
       "    </tr>\n",
       "    <tr>\n",
       "      <th>4</th>\n",
       "      <td>DRB13</td>\n",
       "      <td>BABATUNJI013</td>\n",
       "      <td>DRB13_BABATUNJI013</td>\n",
       "      <td>6.115</td>\n",
       "      <td>Normal Sugar</td>\n",
       "      <td>0.007038</td>\n",
       "      <td>Soft Drinks</td>\n",
       "      <td>473.13</td>\n",
       "      <td>1994</td>\n",
       "      <td>High</td>\n",
       "      <td>Cluster 3</td>\n",
       "      <td>Supermarket Type1</td>\n",
       "      <td>test</td>\n",
       "      <td>NaN</td>\n",
       "    </tr>\n",
       "  </tbody>\n",
       "</table>\n",
       "</div>"
      ],
      "text/plain": [
       "  Item_ID      Store_ID       Item_Store_ID  Item_Weight Item_Sugar_Content  \\\n",
       "0   DRA59  BABATUNJI010  DRA59_BABATUNJI010        8.270       Normal Sugar   \n",
       "1   DRA59  BABATUNJI013  DRA59_BABATUNJI013        8.270       Normal Sugar   \n",
       "2   DRB01  BABATUNJI013  DRB01_BABATUNJI013        7.390          Low Sugar   \n",
       "3   DRB13  BABATUNJI010  DRB13_BABATUNJI010        6.115       Normal Sugar   \n",
       "4   DRB13  BABATUNJI013  DRB13_BABATUNJI013        6.115       Normal Sugar   \n",
       "\n",
       "   Item_Visibility    Item_Type  Item_Price  Store_Start_Year Store_Size  \\\n",
       "0         0.214125  Soft Drinks      459.98              2005        NaN   \n",
       "1         0.127821  Soft Drinks      464.98              1994       High   \n",
       "2         0.082171  Soft Drinks      477.38              1994       High   \n",
       "3         0.011791  Soft Drinks      472.63              2005        NaN   \n",
       "4         0.007038  Soft Drinks      473.13              1994       High   \n",
       "\n",
       "  Store_Location_Type         Store_Type source  Item_Store_Returns  \n",
       "0           Cluster 3      Grocery Store   test                 NaN  \n",
       "1           Cluster 3  Supermarket Type1   test                 NaN  \n",
       "2           Cluster 3  Supermarket Type1   test                 NaN  \n",
       "3           Cluster 3      Grocery Store   test                 NaN  \n",
       "4           Cluster 3  Supermarket Type1   test                 NaN  "
      ]
     },
     "execution_count": 64,
     "metadata": {},
     "output_type": "execute_result"
    }
   ],
   "source": [
    "test.head()"
   ]
  },
  {
   "cell_type": "code",
   "execution_count": 65,
   "id": "d6be0272",
   "metadata": {},
   "outputs": [
    {
     "data": {
      "text/html": [
       "<div>\n",
       "<style scoped>\n",
       "    .dataframe tbody tr th:only-of-type {\n",
       "        vertical-align: middle;\n",
       "    }\n",
       "\n",
       "    .dataframe tbody tr th {\n",
       "        vertical-align: top;\n",
       "    }\n",
       "\n",
       "    .dataframe thead th {\n",
       "        text-align: right;\n",
       "    }\n",
       "</style>\n",
       "<table border=\"1\" class=\"dataframe\">\n",
       "  <thead>\n",
       "    <tr style=\"text-align: right;\">\n",
       "      <th></th>\n",
       "      <th>Item_ID</th>\n",
       "      <th>Store_ID</th>\n",
       "      <th>Item_Store_ID</th>\n",
       "      <th>Item_Weight</th>\n",
       "      <th>Item_Sugar_Content</th>\n",
       "      <th>Item_Visibility</th>\n",
       "      <th>Item_Type</th>\n",
       "      <th>Item_Price</th>\n",
       "      <th>Store_Start_Year</th>\n",
       "      <th>Store_Size</th>\n",
       "      <th>Store_Location_Type</th>\n",
       "      <th>Store_Type</th>\n",
       "      <th>Item_Store_Returns</th>\n",
       "      <th>source</th>\n",
       "    </tr>\n",
       "  </thead>\n",
       "  <tbody>\n",
       "    <tr>\n",
       "      <th>0</th>\n",
       "      <td>DRA12</td>\n",
       "      <td>BABATUNJI010</td>\n",
       "      <td>DRA12_BABATUNJI010</td>\n",
       "      <td>11.6</td>\n",
       "      <td>Low Sugar</td>\n",
       "      <td>0.068535</td>\n",
       "      <td>Soft Drinks</td>\n",
       "      <td>357.54</td>\n",
       "      <td>2005</td>\n",
       "      <td>NaN</td>\n",
       "      <td>Cluster 3</td>\n",
       "      <td>Grocery Store</td>\n",
       "      <td>709.08</td>\n",
       "      <td>train</td>\n",
       "    </tr>\n",
       "    <tr>\n",
       "      <th>1</th>\n",
       "      <td>DRA12</td>\n",
       "      <td>BABATUNJI013</td>\n",
       "      <td>DRA12_BABATUNJI013</td>\n",
       "      <td>11.6</td>\n",
       "      <td>Low Sugar</td>\n",
       "      <td>0.040912</td>\n",
       "      <td>Soft Drinks</td>\n",
       "      <td>355.79</td>\n",
       "      <td>1994</td>\n",
       "      <td>High</td>\n",
       "      <td>Cluster 3</td>\n",
       "      <td>Supermarket Type1</td>\n",
       "      <td>6381.69</td>\n",
       "      <td>train</td>\n",
       "    </tr>\n",
       "    <tr>\n",
       "      <th>2</th>\n",
       "      <td>DRA12</td>\n",
       "      <td>BABATUNJI017</td>\n",
       "      <td>DRA12_BABATUNJI017</td>\n",
       "      <td>11.6</td>\n",
       "      <td>Low Sugar</td>\n",
       "      <td>0.041178</td>\n",
       "      <td>Soft Drinks</td>\n",
       "      <td>350.79</td>\n",
       "      <td>2014</td>\n",
       "      <td>NaN</td>\n",
       "      <td>Cluster 2</td>\n",
       "      <td>Supermarket Type1</td>\n",
       "      <td>6381.69</td>\n",
       "      <td>train</td>\n",
       "    </tr>\n",
       "    <tr>\n",
       "      <th>3</th>\n",
       "      <td>DRA12</td>\n",
       "      <td>BABATUNJI018</td>\n",
       "      <td>DRA12_BABATUNJI018</td>\n",
       "      <td>11.6</td>\n",
       "      <td>Low Sugar</td>\n",
       "      <td>0.041113</td>\n",
       "      <td>Soft Drinks</td>\n",
       "      <td>355.04</td>\n",
       "      <td>2016</td>\n",
       "      <td>Medium</td>\n",
       "      <td>Cluster 3</td>\n",
       "      <td>Supermarket Type2</td>\n",
       "      <td>2127.23</td>\n",
       "      <td>train</td>\n",
       "    </tr>\n",
       "    <tr>\n",
       "      <th>4</th>\n",
       "      <td>DRA12</td>\n",
       "      <td>BABATUNJI035</td>\n",
       "      <td>DRA12_BABATUNJI035</td>\n",
       "      <td>11.6</td>\n",
       "      <td>Ultra Low Sugar</td>\n",
       "      <td>0.000000</td>\n",
       "      <td>Soft Drinks</td>\n",
       "      <td>354.79</td>\n",
       "      <td>2011</td>\n",
       "      <td>Small</td>\n",
       "      <td>Cluster 2</td>\n",
       "      <td>Supermarket Type1</td>\n",
       "      <td>2481.77</td>\n",
       "      <td>train</td>\n",
       "    </tr>\n",
       "  </tbody>\n",
       "</table>\n",
       "</div>"
      ],
      "text/plain": [
       "  Item_ID      Store_ID       Item_Store_ID  Item_Weight Item_Sugar_Content  \\\n",
       "0   DRA12  BABATUNJI010  DRA12_BABATUNJI010         11.6          Low Sugar   \n",
       "1   DRA12  BABATUNJI013  DRA12_BABATUNJI013         11.6          Low Sugar   \n",
       "2   DRA12  BABATUNJI017  DRA12_BABATUNJI017         11.6          Low Sugar   \n",
       "3   DRA12  BABATUNJI018  DRA12_BABATUNJI018         11.6          Low Sugar   \n",
       "4   DRA12  BABATUNJI035  DRA12_BABATUNJI035         11.6    Ultra Low Sugar   \n",
       "\n",
       "   Item_Visibility    Item_Type  Item_Price  Store_Start_Year Store_Size  \\\n",
       "0         0.068535  Soft Drinks      357.54              2005        NaN   \n",
       "1         0.040912  Soft Drinks      355.79              1994       High   \n",
       "2         0.041178  Soft Drinks      350.79              2014        NaN   \n",
       "3         0.041113  Soft Drinks      355.04              2016     Medium   \n",
       "4         0.000000  Soft Drinks      354.79              2011      Small   \n",
       "\n",
       "  Store_Location_Type         Store_Type  Item_Store_Returns source  \n",
       "0           Cluster 3      Grocery Store              709.08  train  \n",
       "1           Cluster 3  Supermarket Type1             6381.69  train  \n",
       "2           Cluster 2  Supermarket Type1             6381.69  train  \n",
       "3           Cluster 3  Supermarket Type2             2127.23  train  \n",
       "4           Cluster 2  Supermarket Type1             2481.77  train  "
      ]
     },
     "execution_count": 65,
     "metadata": {},
     "output_type": "execute_result"
    }
   ],
   "source": [
    "train.head()"
   ]
  },
  {
   "cell_type": "code",
   "execution_count": 66,
   "id": "a949f154",
   "metadata": {},
   "outputs": [],
   "source": [
    "df = pd.concat([train, test], ignore_index=True)"
   ]
  },
  {
   "cell_type": "code",
   "execution_count": 67,
   "id": "5bc14d49",
   "metadata": {},
   "outputs": [
    {
     "data": {
      "text/plain": [
       "(3532, 14)"
      ]
     },
     "execution_count": 67,
     "metadata": {},
     "output_type": "execute_result"
    }
   ],
   "source": [
    "test.shape"
   ]
  },
  {
   "cell_type": "code",
   "execution_count": 68,
   "id": "bddde7f9",
   "metadata": {},
   "outputs": [
    {
     "data": {
      "text/plain": [
       "(8522, 14)"
      ]
     },
     "execution_count": 68,
     "metadata": {},
     "output_type": "execute_result"
    }
   ],
   "source": [
    "df.shape"
   ]
  },
  {
   "cell_type": "code",
   "execution_count": 69,
   "id": "0eaf50f5",
   "metadata": {},
   "outputs": [
    {
     "name": "stdout",
     "output_type": "stream",
     "text": [
      "<class 'pandas.core.frame.DataFrame'>\n",
      "RangeIndex: 3532 entries, 0 to 3531\n",
      "Data columns (total 14 columns):\n",
      " #   Column               Non-Null Count  Dtype  \n",
      "---  ------               --------------  -----  \n",
      " 0   Item_ID              3532 non-null   object \n",
      " 1   Store_ID             3532 non-null   object \n",
      " 2   Item_Store_ID        3532 non-null   object \n",
      " 3   Item_Weight          2871 non-null   float64\n",
      " 4   Item_Sugar_Content   3532 non-null   object \n",
      " 5   Item_Visibility      3532 non-null   float64\n",
      " 6   Item_Type            3532 non-null   object \n",
      " 7   Item_Price           3532 non-null   float64\n",
      " 8   Store_Start_Year     3532 non-null   int64  \n",
      " 9   Store_Size           2573 non-null   object \n",
      " 10  Store_Location_Type  3532 non-null   object \n",
      " 11  Store_Type           3532 non-null   object \n",
      " 12  source               3532 non-null   object \n",
      " 13  Item_Store_Returns   0 non-null      float64\n",
      "dtypes: float64(4), int64(1), object(9)\n",
      "memory usage: 386.4+ KB\n"
     ]
    }
   ],
   "source": [
    "test.info()"
   ]
  },
  {
   "cell_type": "code",
   "execution_count": 70,
   "id": "8879987c",
   "metadata": {},
   "outputs": [
    {
     "data": {
      "text/html": [
       "<div>\n",
       "<style scoped>\n",
       "    .dataframe tbody tr th:only-of-type {\n",
       "        vertical-align: middle;\n",
       "    }\n",
       "\n",
       "    .dataframe tbody tr th {\n",
       "        vertical-align: top;\n",
       "    }\n",
       "\n",
       "    .dataframe thead th {\n",
       "        text-align: right;\n",
       "    }\n",
       "</style>\n",
       "<table border=\"1\" class=\"dataframe\">\n",
       "  <thead>\n",
       "    <tr style=\"text-align: right;\">\n",
       "      <th></th>\n",
       "      <th>Item_ID</th>\n",
       "      <th>Store_ID</th>\n",
       "      <th>Item_Store_ID</th>\n",
       "      <th>Item_Weight</th>\n",
       "      <th>Item_Sugar_Content</th>\n",
       "      <th>Item_Visibility</th>\n",
       "      <th>Item_Type</th>\n",
       "      <th>Item_Price</th>\n",
       "      <th>Store_Start_Year</th>\n",
       "      <th>Store_Size</th>\n",
       "      <th>Store_Location_Type</th>\n",
       "      <th>Store_Type</th>\n",
       "      <th>Item_Store_Returns</th>\n",
       "      <th>source</th>\n",
       "    </tr>\n",
       "  </thead>\n",
       "  <tbody>\n",
       "    <tr>\n",
       "      <th>0</th>\n",
       "      <td>DRA12</td>\n",
       "      <td>BABATUNJI010</td>\n",
       "      <td>DRA12_BABATUNJI010</td>\n",
       "      <td>11.6</td>\n",
       "      <td>Low Sugar</td>\n",
       "      <td>0.068535</td>\n",
       "      <td>Soft Drinks</td>\n",
       "      <td>357.54</td>\n",
       "      <td>2005</td>\n",
       "      <td>NaN</td>\n",
       "      <td>Cluster 3</td>\n",
       "      <td>Grocery Store</td>\n",
       "      <td>709.08</td>\n",
       "      <td>train</td>\n",
       "    </tr>\n",
       "    <tr>\n",
       "      <th>1</th>\n",
       "      <td>DRA12</td>\n",
       "      <td>BABATUNJI013</td>\n",
       "      <td>DRA12_BABATUNJI013</td>\n",
       "      <td>11.6</td>\n",
       "      <td>Low Sugar</td>\n",
       "      <td>0.040912</td>\n",
       "      <td>Soft Drinks</td>\n",
       "      <td>355.79</td>\n",
       "      <td>1994</td>\n",
       "      <td>High</td>\n",
       "      <td>Cluster 3</td>\n",
       "      <td>Supermarket Type1</td>\n",
       "      <td>6381.69</td>\n",
       "      <td>train</td>\n",
       "    </tr>\n",
       "    <tr>\n",
       "      <th>2</th>\n",
       "      <td>DRA12</td>\n",
       "      <td>BABATUNJI017</td>\n",
       "      <td>DRA12_BABATUNJI017</td>\n",
       "      <td>11.6</td>\n",
       "      <td>Low Sugar</td>\n",
       "      <td>0.041178</td>\n",
       "      <td>Soft Drinks</td>\n",
       "      <td>350.79</td>\n",
       "      <td>2014</td>\n",
       "      <td>NaN</td>\n",
       "      <td>Cluster 2</td>\n",
       "      <td>Supermarket Type1</td>\n",
       "      <td>6381.69</td>\n",
       "      <td>train</td>\n",
       "    </tr>\n",
       "    <tr>\n",
       "      <th>3</th>\n",
       "      <td>DRA12</td>\n",
       "      <td>BABATUNJI018</td>\n",
       "      <td>DRA12_BABATUNJI018</td>\n",
       "      <td>11.6</td>\n",
       "      <td>Low Sugar</td>\n",
       "      <td>0.041113</td>\n",
       "      <td>Soft Drinks</td>\n",
       "      <td>355.04</td>\n",
       "      <td>2016</td>\n",
       "      <td>Medium</td>\n",
       "      <td>Cluster 3</td>\n",
       "      <td>Supermarket Type2</td>\n",
       "      <td>2127.23</td>\n",
       "      <td>train</td>\n",
       "    </tr>\n",
       "    <tr>\n",
       "      <th>4</th>\n",
       "      <td>DRA12</td>\n",
       "      <td>BABATUNJI035</td>\n",
       "      <td>DRA12_BABATUNJI035</td>\n",
       "      <td>11.6</td>\n",
       "      <td>Ultra Low Sugar</td>\n",
       "      <td>0.000000</td>\n",
       "      <td>Soft Drinks</td>\n",
       "      <td>354.79</td>\n",
       "      <td>2011</td>\n",
       "      <td>Small</td>\n",
       "      <td>Cluster 2</td>\n",
       "      <td>Supermarket Type1</td>\n",
       "      <td>2481.77</td>\n",
       "      <td>train</td>\n",
       "    </tr>\n",
       "  </tbody>\n",
       "</table>\n",
       "</div>"
      ],
      "text/plain": [
       "  Item_ID      Store_ID       Item_Store_ID  Item_Weight Item_Sugar_Content  \\\n",
       "0   DRA12  BABATUNJI010  DRA12_BABATUNJI010         11.6          Low Sugar   \n",
       "1   DRA12  BABATUNJI013  DRA12_BABATUNJI013         11.6          Low Sugar   \n",
       "2   DRA12  BABATUNJI017  DRA12_BABATUNJI017         11.6          Low Sugar   \n",
       "3   DRA12  BABATUNJI018  DRA12_BABATUNJI018         11.6          Low Sugar   \n",
       "4   DRA12  BABATUNJI035  DRA12_BABATUNJI035         11.6    Ultra Low Sugar   \n",
       "\n",
       "   Item_Visibility    Item_Type  Item_Price  Store_Start_Year Store_Size  \\\n",
       "0         0.068535  Soft Drinks      357.54              2005        NaN   \n",
       "1         0.040912  Soft Drinks      355.79              1994       High   \n",
       "2         0.041178  Soft Drinks      350.79              2014        NaN   \n",
       "3         0.041113  Soft Drinks      355.04              2016     Medium   \n",
       "4         0.000000  Soft Drinks      354.79              2011      Small   \n",
       "\n",
       "  Store_Location_Type         Store_Type  Item_Store_Returns source  \n",
       "0           Cluster 3      Grocery Store              709.08  train  \n",
       "1           Cluster 3  Supermarket Type1             6381.69  train  \n",
       "2           Cluster 2  Supermarket Type1             6381.69  train  \n",
       "3           Cluster 3  Supermarket Type2             2127.23  train  \n",
       "4           Cluster 2  Supermarket Type1             2481.77  train  "
      ]
     },
     "execution_count": 70,
     "metadata": {},
     "output_type": "execute_result"
    }
   ],
   "source": [
    "df.head()"
   ]
  },
  {
   "cell_type": "code",
   "execution_count": 71,
   "id": "0e1f3d6f",
   "metadata": {},
   "outputs": [
    {
     "data": {
      "text/plain": [
       "(8522, 14)"
      ]
     },
     "execution_count": 71,
     "metadata": {},
     "output_type": "execute_result"
    }
   ],
   "source": [
    "df.shape"
   ]
  },
  {
   "cell_type": "code",
   "execution_count": 72,
   "id": "caad4e5b",
   "metadata": {},
   "outputs": [
    {
     "name": "stdout",
     "output_type": "stream",
     "text": [
      "<class 'pandas.core.frame.DataFrame'>\n",
      "RangeIndex: 8522 entries, 0 to 8521\n",
      "Data columns (total 14 columns):\n",
      " #   Column               Non-Null Count  Dtype  \n",
      "---  ------               --------------  -----  \n",
      " 0   Item_ID              8522 non-null   object \n",
      " 1   Store_ID             8522 non-null   object \n",
      " 2   Item_Store_ID        8522 non-null   object \n",
      " 3   Item_Weight          7059 non-null   float64\n",
      " 4   Item_Sugar_Content   8522 non-null   object \n",
      " 5   Item_Visibility      8522 non-null   float64\n",
      " 6   Item_Type            8522 non-null   object \n",
      " 7   Item_Price           8522 non-null   float64\n",
      " 8   Store_Start_Year     8522 non-null   int64  \n",
      " 9   Store_Size           6113 non-null   object \n",
      " 10  Store_Location_Type  8522 non-null   object \n",
      " 11  Store_Type           8522 non-null   object \n",
      " 12  Item_Store_Returns   4990 non-null   float64\n",
      " 13  source               8522 non-null   object \n",
      "dtypes: float64(4), int64(1), object(9)\n",
      "memory usage: 932.2+ KB\n"
     ]
    }
   ],
   "source": [
    "df.info()"
   ]
  },
  {
   "cell_type": "code",
   "execution_count": 73,
   "id": "f411a1ad",
   "metadata": {},
   "outputs": [
    {
     "data": {
      "text/html": [
       "<div>\n",
       "<style scoped>\n",
       "    .dataframe tbody tr th:only-of-type {\n",
       "        vertical-align: middle;\n",
       "    }\n",
       "\n",
       "    .dataframe tbody tr th {\n",
       "        vertical-align: top;\n",
       "    }\n",
       "\n",
       "    .dataframe thead th {\n",
       "        text-align: right;\n",
       "    }\n",
       "</style>\n",
       "<table border=\"1\" class=\"dataframe\">\n",
       "  <thead>\n",
       "    <tr style=\"text-align: right;\">\n",
       "      <th></th>\n",
       "      <th>Item_Weight</th>\n",
       "      <th>Item_Visibility</th>\n",
       "      <th>Item_Price</th>\n",
       "      <th>Store_Start_Year</th>\n",
       "      <th>Item_Store_Returns</th>\n",
       "    </tr>\n",
       "  </thead>\n",
       "  <tbody>\n",
       "    <tr>\n",
       "      <th>count</th>\n",
       "      <td>7059.000000</td>\n",
       "      <td>8522.000000</td>\n",
       "      <td>8522.000000</td>\n",
       "      <td>8522.000000</td>\n",
       "      <td>4990.000000</td>\n",
       "    </tr>\n",
       "    <tr>\n",
       "      <th>mean</th>\n",
       "      <td>12.857115</td>\n",
       "      <td>0.066134</td>\n",
       "      <td>352.471687</td>\n",
       "      <td>2004.831847</td>\n",
       "      <td>6103.520164</td>\n",
       "    </tr>\n",
       "    <tr>\n",
       "      <th>std</th>\n",
       "      <td>4.643572</td>\n",
       "      <td>0.051600</td>\n",
       "      <td>155.693760</td>\n",
       "      <td>8.372251</td>\n",
       "      <td>4447.333835</td>\n",
       "    </tr>\n",
       "    <tr>\n",
       "      <th>min</th>\n",
       "      <td>4.555000</td>\n",
       "      <td>0.000000</td>\n",
       "      <td>78.230000</td>\n",
       "      <td>1992.000000</td>\n",
       "      <td>83.230000</td>\n",
       "    </tr>\n",
       "    <tr>\n",
       "      <th>25%</th>\n",
       "      <td>8.772500</td>\n",
       "      <td>0.026988</td>\n",
       "      <td>234.542500</td>\n",
       "      <td>1994.000000</td>\n",
       "      <td>2757.660000</td>\n",
       "    </tr>\n",
       "    <tr>\n",
       "      <th>50%</th>\n",
       "      <td>12.600000</td>\n",
       "      <td>0.053935</td>\n",
       "      <td>357.450000</td>\n",
       "      <td>2006.000000</td>\n",
       "      <td>5374.675000</td>\n",
       "    </tr>\n",
       "    <tr>\n",
       "      <th>75%</th>\n",
       "      <td>16.850000</td>\n",
       "      <td>0.094594</td>\n",
       "      <td>464.130000</td>\n",
       "      <td>2011.000000</td>\n",
       "      <td>8522.240000</td>\n",
       "    </tr>\n",
       "    <tr>\n",
       "      <th>max</th>\n",
       "      <td>21.350000</td>\n",
       "      <td>0.328391</td>\n",
       "      <td>667.220000</td>\n",
       "      <td>2016.000000</td>\n",
       "      <td>32717.410000</td>\n",
       "    </tr>\n",
       "  </tbody>\n",
       "</table>\n",
       "</div>"
      ],
      "text/plain": [
       "       Item_Weight  Item_Visibility   Item_Price  Store_Start_Year  \\\n",
       "count  7059.000000      8522.000000  8522.000000       8522.000000   \n",
       "mean     12.857115         0.066134   352.471687       2004.831847   \n",
       "std       4.643572         0.051600   155.693760          8.372251   \n",
       "min       4.555000         0.000000    78.230000       1992.000000   \n",
       "25%       8.772500         0.026988   234.542500       1994.000000   \n",
       "50%      12.600000         0.053935   357.450000       2006.000000   \n",
       "75%      16.850000         0.094594   464.130000       2011.000000   \n",
       "max      21.350000         0.328391   667.220000       2016.000000   \n",
       "\n",
       "       Item_Store_Returns  \n",
       "count         4990.000000  \n",
       "mean          6103.520164  \n",
       "std           4447.333835  \n",
       "min             83.230000  \n",
       "25%           2757.660000  \n",
       "50%           5374.675000  \n",
       "75%           8522.240000  \n",
       "max          32717.410000  "
      ]
     },
     "execution_count": 73,
     "metadata": {},
     "output_type": "execute_result"
    }
   ],
   "source": [
    "df.describe()"
   ]
  },
  {
   "cell_type": "code",
   "execution_count": 74,
   "id": "cba1b41c",
   "metadata": {},
   "outputs": [
    {
     "data": {
      "text/html": [
       "<div>\n",
       "<style scoped>\n",
       "    .dataframe tbody tr th:only-of-type {\n",
       "        vertical-align: middle;\n",
       "    }\n",
       "\n",
       "    .dataframe tbody tr th {\n",
       "        vertical-align: top;\n",
       "    }\n",
       "\n",
       "    .dataframe thead th {\n",
       "        text-align: right;\n",
       "    }\n",
       "</style>\n",
       "<table border=\"1\" class=\"dataframe\">\n",
       "  <thead>\n",
       "    <tr style=\"text-align: right;\">\n",
       "      <th></th>\n",
       "      <th>Item_ID</th>\n",
       "      <th>Store_ID</th>\n",
       "      <th>Item_Store_ID</th>\n",
       "      <th>Item_Sugar_Content</th>\n",
       "      <th>Item_Type</th>\n",
       "      <th>Store_Size</th>\n",
       "      <th>Store_Location_Type</th>\n",
       "      <th>Store_Type</th>\n",
       "      <th>source</th>\n",
       "    </tr>\n",
       "  </thead>\n",
       "  <tbody>\n",
       "    <tr>\n",
       "      <th>count</th>\n",
       "      <td>8522</td>\n",
       "      <td>8522</td>\n",
       "      <td>8522</td>\n",
       "      <td>8522</td>\n",
       "      <td>8522</td>\n",
       "      <td>6113</td>\n",
       "      <td>8522</td>\n",
       "      <td>8522</td>\n",
       "      <td>8522</td>\n",
       "    </tr>\n",
       "    <tr>\n",
       "      <th>unique</th>\n",
       "      <td>1559</td>\n",
       "      <td>10</td>\n",
       "      <td>8522</td>\n",
       "      <td>3</td>\n",
       "      <td>16</td>\n",
       "      <td>3</td>\n",
       "      <td>3</td>\n",
       "      <td>4</td>\n",
       "      <td>2</td>\n",
       "    </tr>\n",
       "    <tr>\n",
       "      <th>top</th>\n",
       "      <td>FDW13</td>\n",
       "      <td>BABATUNJI027</td>\n",
       "      <td>DRA12_BABATUNJI010</td>\n",
       "      <td>Low Sugar</td>\n",
       "      <td>Fruits and Vegetables</td>\n",
       "      <td>Medium</td>\n",
       "      <td>Cluster 3</td>\n",
       "      <td>Supermarket Type1</td>\n",
       "      <td>train</td>\n",
       "    </tr>\n",
       "    <tr>\n",
       "      <th>freq</th>\n",
       "      <td>10</td>\n",
       "      <td>935</td>\n",
       "      <td>1</td>\n",
       "      <td>5200</td>\n",
       "      <td>1232</td>\n",
       "      <td>2793</td>\n",
       "      <td>3349</td>\n",
       "      <td>5577</td>\n",
       "      <td>4990</td>\n",
       "    </tr>\n",
       "  </tbody>\n",
       "</table>\n",
       "</div>"
      ],
      "text/plain": [
       "       Item_ID      Store_ID       Item_Store_ID Item_Sugar_Content  \\\n",
       "count     8522          8522                8522               8522   \n",
       "unique    1559            10                8522                  3   \n",
       "top      FDW13  BABATUNJI027  DRA12_BABATUNJI010          Low Sugar   \n",
       "freq        10           935                   1               5200   \n",
       "\n",
       "                    Item_Type Store_Size Store_Location_Type  \\\n",
       "count                    8522       6113                8522   \n",
       "unique                     16          3                   3   \n",
       "top     Fruits and Vegetables     Medium           Cluster 3   \n",
       "freq                     1232       2793                3349   \n",
       "\n",
       "               Store_Type source  \n",
       "count                8522   8522  \n",
       "unique                  4      2  \n",
       "top     Supermarket Type1  train  \n",
       "freq                 5577   4990  "
      ]
     },
     "execution_count": 74,
     "metadata": {},
     "output_type": "execute_result"
    }
   ],
   "source": [
    "df.describe(include='object')"
   ]
  },
  {
   "cell_type": "code",
   "execution_count": 75,
   "id": "a04ea1f2",
   "metadata": {},
   "outputs": [
    {
     "data": {
      "text/plain": [
       "Item_ID                   0\n",
       "Store_ID                  0\n",
       "Item_Store_ID             0\n",
       "Item_Weight            1463\n",
       "Item_Sugar_Content        0\n",
       "Item_Visibility           0\n",
       "Item_Type                 0\n",
       "Item_Price                0\n",
       "Store_Start_Year          0\n",
       "Store_Size             2409\n",
       "Store_Location_Type       0\n",
       "Store_Type                0\n",
       "Item_Store_Returns     3532\n",
       "source                    0\n",
       "dtype: int64"
      ]
     },
     "execution_count": 75,
     "metadata": {},
     "output_type": "execute_result"
    }
   ],
   "source": [
    "df.isnull().sum()"
   ]
  },
  {
   "cell_type": "code",
   "execution_count": 76,
   "id": "06d32c7f",
   "metadata": {},
   "outputs": [
    {
     "data": {
      "text/plain": [
       "0"
      ]
     },
     "execution_count": 76,
     "metadata": {},
     "output_type": "execute_result"
    }
   ],
   "source": [
    "df.duplicated().sum()"
   ]
  },
  {
   "cell_type": "code",
   "execution_count": 77,
   "id": "1138d5c8",
   "metadata": {},
   "outputs": [
    {
     "data": {
      "text/plain": [
       "Item_ID                1559\n",
       "Store_ID                 10\n",
       "Item_Store_ID          8522\n",
       "Item_Weight             415\n",
       "Item_Sugar_Content        3\n",
       "Item_Visibility        7879\n",
       "Item_Type                16\n",
       "Item_Price             5418\n",
       "Store_Start_Year          9\n",
       "Store_Size                3\n",
       "Store_Location_Type       3\n",
       "Store_Type                4\n",
       "Item_Store_Returns     2686\n",
       "source                    2\n",
       "dtype: int64"
      ]
     },
     "execution_count": 77,
     "metadata": {},
     "output_type": "execute_result"
    }
   ],
   "source": [
    "df.nunique()"
   ]
  },
  {
   "cell_type": "code",
   "execution_count": 78,
   "id": "da2fc5b9",
   "metadata": {},
   "outputs": [
    {
     "data": {
      "image/png": "[encoded data removed]",
      "text/plain": [
       "<Figure size 1000x800 with 2 Axes>"
      ]
     },
     "metadata": {},
     "output_type": "display_data"
    }
   ],
   "source": [
    "# For correlation heatmap, let's consider the numeric features only\n",
    "correlation_matrix = df.corr()\n",
    "colors_multi = sns.dark_palette(\"#8502d1\", as_cmap=False)\n",
    "plt.figure(figsize=(10,8))\n",
    "sns.heatmap(correlation_matrix, annot=True, cmap=colors_multi, annot_kws={\"size\": 8})\n",
    "\n",
    "plt.xticks(fontsize=7)\n",
    "plt.yticks(fontsize=7)\n",
    "plt.title('Correlation Heatmap', fontsize=15)\n",
    "plt.show()\n"
   ]
  },
  {
   "cell_type": "code",
   "execution_count": 79,
   "id": "3bd652a8",
   "metadata": {},
   "outputs": [
    {
     "data": {
      "image/png": "[encoded data removed]",
      "text/plain": [
       "<Figure size 1800x1500 with 16 Axes>"
      ]
     },
     "metadata": {},
     "output_type": "display_data"
    }
   ],
   "source": [
    "df.plot(kind = \"box\" , subplots = True , figsize = (18,15) , layout = (4, 4))\n",
    "plt.show()"
   ]
  },
  {
   "cell_type": "code",
   "execution_count": 80,
   "id": "38918cd6",
   "metadata": {},
   "outputs": [],
   "source": [
    "# Data cleaning process"
   ]
  },
  {
   "cell_type": "code",
   "execution_count": 81,
   "id": "d2e040ad",
   "metadata": {},
   "outputs": [],
   "source": [
    "df.drop(['Item_ID','Store_ID'], axis=1, inplace=True)"
   ]
  },
  {
   "cell_type": "code",
   "execution_count": 82,
   "id": "0fb7fee4",
   "metadata": {},
   "outputs": [
    {
     "data": {
      "text/plain": [
       "Index(['Item_Store_ID', 'Item_Weight', 'Item_Sugar_Content', 'Item_Visibility',\n",
       "       'Item_Type', 'Item_Price', 'Store_Start_Year', 'Store_Size',\n",
       "       'Store_Location_Type', 'Store_Type', 'Item_Store_Returns', 'source'],\n",
       "      dtype='object')"
      ]
     },
     "execution_count": 82,
     "metadata": {},
     "output_type": "execute_result"
    }
   ],
   "source": [
    "df.columns"
   ]
  },
  {
   "cell_type": "code",
   "execution_count": 83,
   "id": "5fb50696",
   "metadata": {},
   "outputs": [],
   "source": [
    "# 3. Fill missing values\n",
    "df['Item_Weight'].fillna(df['Item_Weight'].mean(), inplace=True)\n",
    "df['Item_Visibility'].fillna(df['Item_Visibility'].mean(), inplace=True)\n",
    "df['Item_Price'].fillna(df['Item_Price'].mean(), inplace=True)\n"
   ]
  },
  {
   "cell_type": "code",
   "execution_count": 84,
   "id": "55577058",
   "metadata": {},
   "outputs": [],
   "source": [
    "df['Store_Size'].fillna(df['Store_Size'].mode()[0], inplace=True)"
   ]
  },
  {
   "cell_type": "code",
   "execution_count": 85,
   "id": "b8343872",
   "metadata": {},
   "outputs": [],
   "source": [
    "# 2. Feature Engineering\n",
    "df['Store_Age'] = 2025 - df['Store_Start_Year']\n",
    "df['Visibility_Adjusted_Price'] = df['Item_Price'] / (df['Item_Visibility'] + 1e-5)\n",
    "df['Store_Exposure'] = df['Item_Visibility'] * df['Store_Age']\n",
    "df['Item_Price_per_Weight'] = df['Item_Price'] / df['Item_Weight']\n",
    "df['Item_Weight_Category'] = pd.cut(df['Item_Weight'], bins=[0, 5, 10, 20, 100])"
   ]
  },
  {
   "cell_type": "code",
   "execution_count": 86,
   "id": "a77098f3",
   "metadata": {},
   "outputs": [],
   "source": [
    "df['Item_Price_per_Weight'].fillna(df['Item_Price_per_Weight'].mean(), inplace=True)"
   ]
  },
  {
   "cell_type": "code",
   "execution_count": 87,
   "id": "ca5a2143",
   "metadata": {},
   "outputs": [],
   "source": [
    "df['Item_Weight_Category'].fillna(df['Item_Weight_Category'].mode()[0], inplace=True)"
   ]
  },
  {
   "cell_type": "code",
   "execution_count": 88,
   "id": "9e64e12b",
   "metadata": {},
   "outputs": [
    {
     "data": {
      "text/plain": [
       "0"
      ]
     },
     "execution_count": 88,
     "metadata": {},
     "output_type": "execute_result"
    }
   ],
   "source": [
    "df['Store_Size'].isnull().sum()"
   ]
  },
  {
   "cell_type": "code",
   "execution_count": 89,
   "id": "5657513f",
   "metadata": {},
   "outputs": [
    {
     "name": "stdout",
     "output_type": "stream",
     "text": [
      "<class 'pandas.core.frame.DataFrame'>\n",
      "RangeIndex: 8522 entries, 0 to 8521\n",
      "Data columns (total 17 columns):\n",
      " #   Column                     Non-Null Count  Dtype   \n",
      "---  ------                     --------------  -----   \n",
      " 0   Item_Store_ID              8522 non-null   object  \n",
      " 1   Item_Weight                8522 non-null   float64 \n",
      " 2   Item_Sugar_Content         8522 non-null   object  \n",
      " 3   Item_Visibility            8522 non-null   float64 \n",
      " 4   Item_Type                  8522 non-null   object  \n",
      " 5   Item_Price                 8522 non-null   float64 \n",
      " 6   Store_Start_Year           8522 non-null   int64   \n",
      " 7   Store_Size                 8522 non-null   object  \n",
      " 8   Store_Location_Type        8522 non-null   object  \n",
      " 9   Store_Type                 8522 non-null   object  \n",
      " 10  Item_Store_Returns         4990 non-null   float64 \n",
      " 11  source                     8522 non-null   object  \n",
      " 12  Store_Age                  8522 non-null   int64   \n",
      " 13  Visibility_Adjusted_Price  8522 non-null   float64 \n",
      " 14  Store_Exposure             8522 non-null   float64 \n",
      " 15  Item_Price_per_Weight      8522 non-null   float64 \n",
      " 16  Item_Weight_Category       8522 non-null   category\n",
      "dtypes: category(1), float64(7), int64(2), object(7)\n",
      "memory usage: 1.0+ MB\n"
     ]
    }
   ],
   "source": [
    "df.info()"
   ]
  },
  {
   "cell_type": "code",
   "execution_count": 90,
   "id": "0d62cba0",
   "metadata": {},
   "outputs": [
    {
     "name": "stderr",
     "output_type": "stream",
     "text": [
      "C:\\Users\\user\\anaconda3\\lib\\site-packages\\seaborn\\distributions.py:2619: FutureWarning: `distplot` is a deprecated function and will be removed in a future version. Please adapt your code to use either `displot` (a figure-level function with similar flexibility) or `histplot` (an axes-level function for histograms).\n",
      "  warnings.warn(msg, FutureWarning)\n"
     ]
    },
    {
     "data": {
      "text/plain": [
       "<AxesSubplot:xlabel='Item_Visibility', ylabel='Density'>"
      ]
     },
     "execution_count": 90,
     "metadata": {},
     "output_type": "execute_result"
    },
    {
     "data": {
      "image/png": "[encoded data removed]",
      "text/plain": [
       "<Figure size 640x480 with 1 Axes>"
      ]
     },
     "metadata": {},
     "output_type": "display_data"
    }
   ],
   "source": [
    "sns.distplot(df['Item_Visibility'])"
   ]
  },
  {
   "cell_type": "code",
   "execution_count": 91,
   "id": "fc748b83",
   "metadata": {},
   "outputs": [
    {
     "data": {
      "text/plain": [
       "(8522, 17)"
      ]
     },
     "execution_count": 91,
     "metadata": {},
     "output_type": "execute_result"
    }
   ],
   "source": [
    "df.shape"
   ]
  },
  {
   "cell_type": "code",
   "execution_count": 92,
   "id": "34be1cad",
   "metadata": {},
   "outputs": [
    {
     "data": {
      "image/png": "[encoded data removed]",
      "text/plain": [
       "<Figure size 1800x1500 with 16 Axes>"
      ]
     },
     "metadata": {},
     "output_type": "display_data"
    }
   ],
   "source": [
    "df.plot(kind = \"box\" , subplots = True , figsize = (18,15) , layout = (4, 4))\n",
    "plt.show()"
   ]
  },
  {
   "cell_type": "code",
   "execution_count": 93,
   "id": "e2d20372",
   "metadata": {},
   "outputs": [
    {
     "data": {
      "text/html": [
       "<div>\n",
       "<style scoped>\n",
       "    .dataframe tbody tr th:only-of-type {\n",
       "        vertical-align: middle;\n",
       "    }\n",
       "\n",
       "    .dataframe tbody tr th {\n",
       "        vertical-align: top;\n",
       "    }\n",
       "\n",
       "    .dataframe thead th {\n",
       "        text-align: right;\n",
       "    }\n",
       "</style>\n",
       "<table border=\"1\" class=\"dataframe\">\n",
       "  <thead>\n",
       "    <tr style=\"text-align: right;\">\n",
       "      <th></th>\n",
       "      <th>Item_Store_ID</th>\n",
       "      <th>Item_Weight</th>\n",
       "      <th>Item_Sugar_Content</th>\n",
       "      <th>Item_Visibility</th>\n",
       "      <th>Item_Type</th>\n",
       "      <th>Item_Price</th>\n",
       "      <th>Store_Start_Year</th>\n",
       "      <th>Store_Size</th>\n",
       "      <th>Store_Location_Type</th>\n",
       "      <th>Store_Type</th>\n",
       "      <th>Item_Store_Returns</th>\n",
       "      <th>source</th>\n",
       "      <th>Store_Age</th>\n",
       "      <th>Visibility_Adjusted_Price</th>\n",
       "      <th>Store_Exposure</th>\n",
       "      <th>Item_Price_per_Weight</th>\n",
       "      <th>Item_Weight_Category</th>\n",
       "    </tr>\n",
       "  </thead>\n",
       "  <tbody>\n",
       "    <tr>\n",
       "      <th>0</th>\n",
       "      <td>DRA12_BABATUNJI010</td>\n",
       "      <td>11.6</td>\n",
       "      <td>Low Sugar</td>\n",
       "      <td>0.068535</td>\n",
       "      <td>Soft Drinks</td>\n",
       "      <td>357.54</td>\n",
       "      <td>2005</td>\n",
       "      <td>Medium</td>\n",
       "      <td>Cluster 3</td>\n",
       "      <td>Grocery Store</td>\n",
       "      <td>709.08</td>\n",
       "      <td>train</td>\n",
       "      <td>20</td>\n",
       "      <td>5.216132e+03</td>\n",
       "      <td>1.370701</td>\n",
       "      <td>30.822414</td>\n",
       "      <td>(10, 20]</td>\n",
       "    </tr>\n",
       "    <tr>\n",
       "      <th>1</th>\n",
       "      <td>DRA12_BABATUNJI013</td>\n",
       "      <td>11.6</td>\n",
       "      <td>Low Sugar</td>\n",
       "      <td>0.040912</td>\n",
       "      <td>Soft Drinks</td>\n",
       "      <td>355.79</td>\n",
       "      <td>1994</td>\n",
       "      <td>High</td>\n",
       "      <td>Cluster 3</td>\n",
       "      <td>Supermarket Type1</td>\n",
       "      <td>6381.69</td>\n",
       "      <td>train</td>\n",
       "      <td>31</td>\n",
       "      <td>8.694383e+03</td>\n",
       "      <td>1.268267</td>\n",
       "      <td>30.671552</td>\n",
       "      <td>(10, 20]</td>\n",
       "    </tr>\n",
       "    <tr>\n",
       "      <th>2</th>\n",
       "      <td>DRA12_BABATUNJI017</td>\n",
       "      <td>11.6</td>\n",
       "      <td>Low Sugar</td>\n",
       "      <td>0.041178</td>\n",
       "      <td>Soft Drinks</td>\n",
       "      <td>350.79</td>\n",
       "      <td>2014</td>\n",
       "      <td>Medium</td>\n",
       "      <td>Cluster 2</td>\n",
       "      <td>Supermarket Type1</td>\n",
       "      <td>6381.69</td>\n",
       "      <td>train</td>\n",
       "      <td>11</td>\n",
       "      <td>8.516903e+03</td>\n",
       "      <td>0.452953</td>\n",
       "      <td>30.240517</td>\n",
       "      <td>(10, 20]</td>\n",
       "    </tr>\n",
       "    <tr>\n",
       "      <th>3</th>\n",
       "      <td>DRA12_BABATUNJI018</td>\n",
       "      <td>11.6</td>\n",
       "      <td>Low Sugar</td>\n",
       "      <td>0.041113</td>\n",
       "      <td>Soft Drinks</td>\n",
       "      <td>355.04</td>\n",
       "      <td>2016</td>\n",
       "      <td>Medium</td>\n",
       "      <td>Cluster 3</td>\n",
       "      <td>Supermarket Type2</td>\n",
       "      <td>2127.23</td>\n",
       "      <td>train</td>\n",
       "      <td>9</td>\n",
       "      <td>8.633676e+03</td>\n",
       "      <td>0.370014</td>\n",
       "      <td>30.606897</td>\n",
       "      <td>(10, 20]</td>\n",
       "    </tr>\n",
       "    <tr>\n",
       "      <th>4</th>\n",
       "      <td>DRA12_BABATUNJI035</td>\n",
       "      <td>11.6</td>\n",
       "      <td>Ultra Low Sugar</td>\n",
       "      <td>0.000000</td>\n",
       "      <td>Soft Drinks</td>\n",
       "      <td>354.79</td>\n",
       "      <td>2011</td>\n",
       "      <td>Small</td>\n",
       "      <td>Cluster 2</td>\n",
       "      <td>Supermarket Type1</td>\n",
       "      <td>2481.77</td>\n",
       "      <td>train</td>\n",
       "      <td>14</td>\n",
       "      <td>3.547900e+07</td>\n",
       "      <td>0.000000</td>\n",
       "      <td>30.585345</td>\n",
       "      <td>(10, 20]</td>\n",
       "    </tr>\n",
       "  </tbody>\n",
       "</table>\n",
       "</div>"
      ],
      "text/plain": [
       "        Item_Store_ID  Item_Weight Item_Sugar_Content  Item_Visibility  \\\n",
       "0  DRA12_BABATUNJI010         11.6          Low Sugar         0.068535   \n",
       "1  DRA12_BABATUNJI013         11.6          Low Sugar         0.040912   \n",
       "2  DRA12_BABATUNJI017         11.6          Low Sugar         0.041178   \n",
       "3  DRA12_BABATUNJI018         11.6          Low Sugar         0.041113   \n",
       "4  DRA12_BABATUNJI035         11.6    Ultra Low Sugar         0.000000   \n",
       "\n",
       "     Item_Type  Item_Price  Store_Start_Year Store_Size Store_Location_Type  \\\n",
       "0  Soft Drinks      357.54              2005     Medium           Cluster 3   \n",
       "1  Soft Drinks      355.79              1994       High           Cluster 3   \n",
       "2  Soft Drinks      350.79              2014     Medium           Cluster 2   \n",
       "3  Soft Drinks      355.04              2016     Medium           Cluster 3   \n",
       "4  Soft Drinks      354.79              2011      Small           Cluster 2   \n",
       "\n",
       "          Store_Type  Item_Store_Returns source  Store_Age  \\\n",
       "0      Grocery Store              709.08  train         20   \n",
       "1  Supermarket Type1             6381.69  train         31   \n",
       "2  Supermarket Type1             6381.69  train         11   \n",
       "3  Supermarket Type2             2127.23  train          9   \n",
       "4  Supermarket Type1             2481.77  train         14   \n",
       "\n",
       "   Visibility_Adjusted_Price  Store_Exposure  Item_Price_per_Weight  \\\n",
       "0               5.216132e+03        1.370701              30.822414   \n",
       "1               8.694383e+03        1.268267              30.671552   \n",
       "2               8.516903e+03        0.452953              30.240517   \n",
       "3               8.633676e+03        0.370014              30.606897   \n",
       "4               3.547900e+07        0.000000              30.585345   \n",
       "\n",
       "  Item_Weight_Category  \n",
       "0             (10, 20]  \n",
       "1             (10, 20]  \n",
       "2             (10, 20]  \n",
       "3             (10, 20]  \n",
       "4             (10, 20]  "
      ]
     },
     "execution_count": 93,
     "metadata": {},
     "output_type": "execute_result"
    }
   ],
   "source": [
    "df.head()"
   ]
  },
  {
   "cell_type": "code",
   "execution_count": 94,
   "id": "c9db425f",
   "metadata": {},
   "outputs": [
    {
     "data": {
      "text/plain": [
       "array(['Soft Drinks', 'Dairy', 'Hard Drinks', 'Canned', 'Frozen Foods',\n",
       "       'Fruits and Vegetables', 'Snack Foods', 'Baking Goods',\n",
       "       'Starchy Foods', 'Meat', 'Seafood', 'Breakfast', 'Breads',\n",
       "       'Health and Hygiene', 'Household', 'Others'], dtype=object)"
      ]
     },
     "execution_count": 94,
     "metadata": {},
     "output_type": "execute_result"
    }
   ],
   "source": [
    "df['Item_Type'].unique()"
   ]
  },
  {
   "cell_type": "code",
   "execution_count": 95,
   "id": "53fa3591",
   "metadata": {},
   "outputs": [],
   "source": [
    "#label encoding\n",
    "le = LabelEncoder()\n",
    "df['Item_Sugar_Content'] = le.fit_transform(df['Item_Sugar_Content'])\n",
    "df['Item_Type'] = le.fit_transform(df['Item_Type'])\n",
    "df['Store_Size'] = le.fit_transform(df['Store_Size'])\n",
    "df['Store_Location_Type'] = le.fit_transform(df['Store_Location_Type'])\n",
    "df['Store_Type'] = le.fit_transform(df['Store_Type'])\n",
    "df['Item_Weight_Category'] = le.fit_transform(df['Item_Weight_Category'])"
   ]
  },
  {
   "cell_type": "code",
   "execution_count": 96,
   "id": "fd45e5ac",
   "metadata": {},
   "outputs": [
    {
     "name": "stdout",
     "output_type": "stream",
     "text": [
      "<class 'pandas.core.frame.DataFrame'>\n",
      "RangeIndex: 8522 entries, 0 to 8521\n",
      "Data columns (total 17 columns):\n",
      " #   Column                     Non-Null Count  Dtype  \n",
      "---  ------                     --------------  -----  \n",
      " 0   Item_Store_ID              8522 non-null   object \n",
      " 1   Item_Weight                8522 non-null   float64\n",
      " 2   Item_Sugar_Content         8522 non-null   int32  \n",
      " 3   Item_Visibility            8522 non-null   float64\n",
      " 4   Item_Type                  8522 non-null   int32  \n",
      " 5   Item_Price                 8522 non-null   float64\n",
      " 6   Store_Start_Year           8522 non-null   int64  \n",
      " 7   Store_Size                 8522 non-null   int32  \n",
      " 8   Store_Location_Type        8522 non-null   int32  \n",
      " 9   Store_Type                 8522 non-null   int32  \n",
      " 10  Item_Store_Returns         4990 non-null   float64\n",
      " 11  source                     8522 non-null   object \n",
      " 12  Store_Age                  8522 non-null   int64  \n",
      " 13  Visibility_Adjusted_Price  8522 non-null   float64\n",
      " 14  Store_Exposure             8522 non-null   float64\n",
      " 15  Item_Price_per_Weight      8522 non-null   float64\n",
      " 16  Item_Weight_Category       8522 non-null   int32  \n",
      "dtypes: float64(7), int32(6), int64(2), object(2)\n",
      "memory usage: 932.2+ KB\n"
     ]
    }
   ],
   "source": [
    "df.info()"
   ]
  },
  {
   "cell_type": "code",
   "execution_count": 97,
   "id": "5c21fcde",
   "metadata": {
    "scrolled": true
   },
   "outputs": [
    {
     "data": {
      "text/html": [
       "<div>\n",
       "<style scoped>\n",
       "    .dataframe tbody tr th:only-of-type {\n",
       "        vertical-align: middle;\n",
       "    }\n",
       "\n",
       "    .dataframe tbody tr th {\n",
       "        vertical-align: top;\n",
       "    }\n",
       "\n",
       "    .dataframe thead th {\n",
       "        text-align: right;\n",
       "    }\n",
       "</style>\n",
       "<table border=\"1\" class=\"dataframe\">\n",
       "  <thead>\n",
       "    <tr style=\"text-align: right;\">\n",
       "      <th></th>\n",
       "      <th>Item_Store_ID</th>\n",
       "      <th>Item_Weight</th>\n",
       "      <th>Item_Sugar_Content</th>\n",
       "      <th>Item_Visibility</th>\n",
       "      <th>Item_Type</th>\n",
       "      <th>Item_Price</th>\n",
       "      <th>Store_Start_Year</th>\n",
       "      <th>Store_Size</th>\n",
       "      <th>Store_Location_Type</th>\n",
       "      <th>Store_Type</th>\n",
       "      <th>Item_Store_Returns</th>\n",
       "      <th>source</th>\n",
       "      <th>Store_Age</th>\n",
       "      <th>Visibility_Adjusted_Price</th>\n",
       "      <th>Store_Exposure</th>\n",
       "      <th>Item_Price_per_Weight</th>\n",
       "      <th>Item_Weight_Category</th>\n",
       "    </tr>\n",
       "  </thead>\n",
       "  <tbody>\n",
       "    <tr>\n",
       "      <th>0</th>\n",
       "      <td>DRA12_BABATUNJI010</td>\n",
       "      <td>11.600000</td>\n",
       "      <td>0</td>\n",
       "      <td>0.068535</td>\n",
       "      <td>14</td>\n",
       "      <td>357.54</td>\n",
       "      <td>2005</td>\n",
       "      <td>1</td>\n",
       "      <td>2</td>\n",
       "      <td>0</td>\n",
       "      <td>709.08</td>\n",
       "      <td>train</td>\n",
       "      <td>20</td>\n",
       "      <td>5.216132e+03</td>\n",
       "      <td>1.370701</td>\n",
       "      <td>30.822414</td>\n",
       "      <td>2</td>\n",
       "    </tr>\n",
       "    <tr>\n",
       "      <th>1</th>\n",
       "      <td>DRA12_BABATUNJI013</td>\n",
       "      <td>11.600000</td>\n",
       "      <td>0</td>\n",
       "      <td>0.040912</td>\n",
       "      <td>14</td>\n",
       "      <td>355.79</td>\n",
       "      <td>1994</td>\n",
       "      <td>0</td>\n",
       "      <td>2</td>\n",
       "      <td>1</td>\n",
       "      <td>6381.69</td>\n",
       "      <td>train</td>\n",
       "      <td>31</td>\n",
       "      <td>8.694383e+03</td>\n",
       "      <td>1.268267</td>\n",
       "      <td>30.671552</td>\n",
       "      <td>2</td>\n",
       "    </tr>\n",
       "    <tr>\n",
       "      <th>2</th>\n",
       "      <td>DRA12_BABATUNJI017</td>\n",
       "      <td>11.600000</td>\n",
       "      <td>0</td>\n",
       "      <td>0.041178</td>\n",
       "      <td>14</td>\n",
       "      <td>350.79</td>\n",
       "      <td>2014</td>\n",
       "      <td>1</td>\n",
       "      <td>1</td>\n",
       "      <td>1</td>\n",
       "      <td>6381.69</td>\n",
       "      <td>train</td>\n",
       "      <td>11</td>\n",
       "      <td>8.516903e+03</td>\n",
       "      <td>0.452953</td>\n",
       "      <td>30.240517</td>\n",
       "      <td>2</td>\n",
       "    </tr>\n",
       "    <tr>\n",
       "      <th>3</th>\n",
       "      <td>DRA12_BABATUNJI018</td>\n",
       "      <td>11.600000</td>\n",
       "      <td>0</td>\n",
       "      <td>0.041113</td>\n",
       "      <td>14</td>\n",
       "      <td>355.04</td>\n",
       "      <td>2016</td>\n",
       "      <td>1</td>\n",
       "      <td>2</td>\n",
       "      <td>2</td>\n",
       "      <td>2127.23</td>\n",
       "      <td>train</td>\n",
       "      <td>9</td>\n",
       "      <td>8.633676e+03</td>\n",
       "      <td>0.370014</td>\n",
       "      <td>30.606897</td>\n",
       "      <td>2</td>\n",
       "    </tr>\n",
       "    <tr>\n",
       "      <th>4</th>\n",
       "      <td>DRA12_BABATUNJI035</td>\n",
       "      <td>11.600000</td>\n",
       "      <td>2</td>\n",
       "      <td>0.000000</td>\n",
       "      <td>14</td>\n",
       "      <td>354.79</td>\n",
       "      <td>2011</td>\n",
       "      <td>2</td>\n",
       "      <td>1</td>\n",
       "      <td>1</td>\n",
       "      <td>2481.77</td>\n",
       "      <td>train</td>\n",
       "      <td>14</td>\n",
       "      <td>3.547900e+07</td>\n",
       "      <td>0.000000</td>\n",
       "      <td>30.585345</td>\n",
       "      <td>2</td>\n",
       "    </tr>\n",
       "    <tr>\n",
       "      <th>5</th>\n",
       "      <td>DRA12_BABATUNJI045</td>\n",
       "      <td>11.600000</td>\n",
       "      <td>0</td>\n",
       "      <td>0.000000</td>\n",
       "      <td>14</td>\n",
       "      <td>354.04</td>\n",
       "      <td>2009</td>\n",
       "      <td>1</td>\n",
       "      <td>1</td>\n",
       "      <td>1</td>\n",
       "      <td>9572.54</td>\n",
       "      <td>train</td>\n",
       "      <td>16</td>\n",
       "      <td>3.540400e+07</td>\n",
       "      <td>0.000000</td>\n",
       "      <td>30.520690</td>\n",
       "      <td>2</td>\n",
       "    </tr>\n",
       "    <tr>\n",
       "      <th>6</th>\n",
       "      <td>DRA24_BABATUNJI010</td>\n",
       "      <td>19.350000</td>\n",
       "      <td>1</td>\n",
       "      <td>0.066832</td>\n",
       "      <td>14</td>\n",
       "      <td>409.72</td>\n",
       "      <td>2005</td>\n",
       "      <td>1</td>\n",
       "      <td>2</td>\n",
       "      <td>0</td>\n",
       "      <td>818.93</td>\n",
       "      <td>train</td>\n",
       "      <td>20</td>\n",
       "      <td>6.129708e+03</td>\n",
       "      <td>1.336634</td>\n",
       "      <td>21.174160</td>\n",
       "      <td>2</td>\n",
       "    </tr>\n",
       "    <tr>\n",
       "      <th>7</th>\n",
       "      <td>DRA24_BABATUNJI013</td>\n",
       "      <td>19.350000</td>\n",
       "      <td>1</td>\n",
       "      <td>0.039895</td>\n",
       "      <td>14</td>\n",
       "      <td>406.22</td>\n",
       "      <td>1994</td>\n",
       "      <td>0</td>\n",
       "      <td>2</td>\n",
       "      <td>1</td>\n",
       "      <td>11055.61</td>\n",
       "      <td>train</td>\n",
       "      <td>31</td>\n",
       "      <td>1.017967e+04</td>\n",
       "      <td>1.236745</td>\n",
       "      <td>20.993282</td>\n",
       "      <td>2</td>\n",
       "    </tr>\n",
       "    <tr>\n",
       "      <th>8</th>\n",
       "      <td>DRA24_BABATUNJI017</td>\n",
       "      <td>19.350000</td>\n",
       "      <td>1</td>\n",
       "      <td>0.040154</td>\n",
       "      <td>14</td>\n",
       "      <td>411.72</td>\n",
       "      <td>2014</td>\n",
       "      <td>1</td>\n",
       "      <td>1</td>\n",
       "      <td>1</td>\n",
       "      <td>2866.27</td>\n",
       "      <td>train</td>\n",
       "      <td>11</td>\n",
       "      <td>1.025095e+04</td>\n",
       "      <td>0.441695</td>\n",
       "      <td>21.277519</td>\n",
       "      <td>2</td>\n",
       "    </tr>\n",
       "    <tr>\n",
       "      <th>9</th>\n",
       "      <td>DRA24_BABATUNJI019</td>\n",
       "      <td>12.857115</td>\n",
       "      <td>1</td>\n",
       "      <td>0.069909</td>\n",
       "      <td>14</td>\n",
       "      <td>408.22</td>\n",
       "      <td>1992</td>\n",
       "      <td>2</td>\n",
       "      <td>0</td>\n",
       "      <td>0</td>\n",
       "      <td>1228.40</td>\n",
       "      <td>train</td>\n",
       "      <td>33</td>\n",
       "      <td>5.838455e+03</td>\n",
       "      <td>2.307003</td>\n",
       "      <td>31.750513</td>\n",
       "      <td>2</td>\n",
       "    </tr>\n",
       "  </tbody>\n",
       "</table>\n",
       "</div>"
      ],
      "text/plain": [
       "        Item_Store_ID  Item_Weight  Item_Sugar_Content  Item_Visibility  \\\n",
       "0  DRA12_BABATUNJI010    11.600000                   0         0.068535   \n",
       "1  DRA12_BABATUNJI013    11.600000                   0         0.040912   \n",
       "2  DRA12_BABATUNJI017    11.600000                   0         0.041178   \n",
       "3  DRA12_BABATUNJI018    11.600000                   0         0.041113   \n",
       "4  DRA12_BABATUNJI035    11.600000                   2         0.000000   \n",
       "5  DRA12_BABATUNJI045    11.600000                   0         0.000000   \n",
       "6  DRA24_BABATUNJI010    19.350000                   1         0.066832   \n",
       "7  DRA24_BABATUNJI013    19.350000                   1         0.039895   \n",
       "8  DRA24_BABATUNJI017    19.350000                   1         0.040154   \n",
       "9  DRA24_BABATUNJI019    12.857115                   1         0.069909   \n",
       "\n",
       "   Item_Type  Item_Price  Store_Start_Year  Store_Size  Store_Location_Type  \\\n",
       "0         14      357.54              2005           1                    2   \n",
       "1         14      355.79              1994           0                    2   \n",
       "2         14      350.79              2014           1                    1   \n",
       "3         14      355.04              2016           1                    2   \n",
       "4         14      354.79              2011           2                    1   \n",
       "5         14      354.04              2009           1                    1   \n",
       "6         14      409.72              2005           1                    2   \n",
       "7         14      406.22              1994           0                    2   \n",
       "8         14      411.72              2014           1                    1   \n",
       "9         14      408.22              1992           2                    0   \n",
       "\n",
       "   Store_Type  Item_Store_Returns source  Store_Age  \\\n",
       "0           0              709.08  train         20   \n",
       "1           1             6381.69  train         31   \n",
       "2           1             6381.69  train         11   \n",
       "3           2             2127.23  train          9   \n",
       "4           1             2481.77  train         14   \n",
       "5           1             9572.54  train         16   \n",
       "6           0              818.93  train         20   \n",
       "7           1            11055.61  train         31   \n",
       "8           1             2866.27  train         11   \n",
       "9           0             1228.40  train         33   \n",
       "\n",
       "   Visibility_Adjusted_Price  Store_Exposure  Item_Price_per_Weight  \\\n",
       "0               5.216132e+03        1.370701              30.822414   \n",
       "1               8.694383e+03        1.268267              30.671552   \n",
       "2               8.516903e+03        0.452953              30.240517   \n",
       "3               8.633676e+03        0.370014              30.606897   \n",
       "4               3.547900e+07        0.000000              30.585345   \n",
       "5               3.540400e+07        0.000000              30.520690   \n",
       "6               6.129708e+03        1.336634              21.174160   \n",
       "7               1.017967e+04        1.236745              20.993282   \n",
       "8               1.025095e+04        0.441695              21.277519   \n",
       "9               5.838455e+03        2.307003              31.750513   \n",
       "\n",
       "   Item_Weight_Category  \n",
       "0                     2  \n",
       "1                     2  \n",
       "2                     2  \n",
       "3                     2  \n",
       "4                     2  \n",
       "5                     2  \n",
       "6                     2  \n",
       "7                     2  \n",
       "8                     2  \n",
       "9                     2  "
      ]
     },
     "execution_count": 97,
     "metadata": {},
     "output_type": "execute_result"
    }
   ],
   "source": [
    "df.head(10)"
   ]
  },
  {
   "cell_type": "code",
   "execution_count": 98,
   "id": "0e8489f0",
   "metadata": {},
   "outputs": [
    {
     "data": {
      "text/plain": [
       "array([2, 1, 0, 3])"
      ]
     },
     "execution_count": 98,
     "metadata": {},
     "output_type": "execute_result"
    }
   ],
   "source": [
    "df['Item_Weight_Category'].unique()"
   ]
  },
  {
   "cell_type": "code",
   "execution_count": 99,
   "id": "f8d0ffc3",
   "metadata": {},
   "outputs": [
    {
     "data": {
      "text/plain": [
       "(8522, 17)"
      ]
     },
     "execution_count": 99,
     "metadata": {},
     "output_type": "execute_result"
    }
   ],
   "source": [
    "df.shape"
   ]
  },
  {
   "cell_type": "code",
   "execution_count": 217,
   "id": "e406deb9",
   "metadata": {},
   "outputs": [],
   "source": [
    "#The model"
   ]
  },
  {
   "cell_type": "code",
   "execution_count": 218,
   "id": "68703fc4",
   "metadata": {},
   "outputs": [],
   "source": [
    "# 5. Separate train/test\n",
    "train_df = df[df['source'] == 'train'].drop(['source'], axis=1)\n",
    "test_df = df[df['source'] == 'test'].drop(['source', 'Item_Store_Returns'], axis=1)"
   ]
  },
  {
   "cell_type": "code",
   "execution_count": 219,
   "id": "7f0012e8",
   "metadata": {},
   "outputs": [
    {
     "data": {
      "text/html": [
       "<div>\n",
       "<style scoped>\n",
       "    .dataframe tbody tr th:only-of-type {\n",
       "        vertical-align: middle;\n",
       "    }\n",
       "\n",
       "    .dataframe tbody tr th {\n",
       "        vertical-align: top;\n",
       "    }\n",
       "\n",
       "    .dataframe thead th {\n",
       "        text-align: right;\n",
       "    }\n",
       "</style>\n",
       "<table border=\"1\" class=\"dataframe\">\n",
       "  <thead>\n",
       "    <tr style=\"text-align: right;\">\n",
       "      <th></th>\n",
       "      <th>Item_Store_ID</th>\n",
       "      <th>Item_Weight</th>\n",
       "      <th>Item_Sugar_Content</th>\n",
       "      <th>Item_Visibility</th>\n",
       "      <th>Item_Type</th>\n",
       "      <th>Item_Price</th>\n",
       "      <th>Store_Start_Year</th>\n",
       "      <th>Store_Size</th>\n",
       "      <th>Store_Location_Type</th>\n",
       "      <th>Store_Type</th>\n",
       "      <th>Store_Age</th>\n",
       "      <th>Visibility_Adjusted_Price</th>\n",
       "      <th>Store_Exposure</th>\n",
       "      <th>Item_Price_per_Weight</th>\n",
       "      <th>Item_Weight_Category</th>\n",
       "    </tr>\n",
       "  </thead>\n",
       "  <tbody>\n",
       "    <tr>\n",
       "      <th>4990</th>\n",
       "      <td>DRA59_BABATUNJI010</td>\n",
       "      <td>8.270</td>\n",
       "      <td>1</td>\n",
       "      <td>0.214125</td>\n",
       "      <td>14</td>\n",
       "      <td>459.98</td>\n",
       "      <td>2005</td>\n",
       "      <td>1</td>\n",
       "      <td>2</td>\n",
       "      <td>0</td>\n",
       "      <td>20</td>\n",
       "      <td>2148.082858</td>\n",
       "      <td>4.282503</td>\n",
       "      <td>55.620314</td>\n",
       "      <td>1</td>\n",
       "    </tr>\n",
       "    <tr>\n",
       "      <th>4991</th>\n",
       "      <td>DRA59_BABATUNJI013</td>\n",
       "      <td>8.270</td>\n",
       "      <td>1</td>\n",
       "      <td>0.127821</td>\n",
       "      <td>14</td>\n",
       "      <td>464.98</td>\n",
       "      <td>1994</td>\n",
       "      <td>0</td>\n",
       "      <td>2</td>\n",
       "      <td>1</td>\n",
       "      <td>31</td>\n",
       "      <td>3637.445402</td>\n",
       "      <td>3.962466</td>\n",
       "      <td>56.224909</td>\n",
       "      <td>1</td>\n",
       "    </tr>\n",
       "    <tr>\n",
       "      <th>4992</th>\n",
       "      <td>DRB01_BABATUNJI013</td>\n",
       "      <td>7.390</td>\n",
       "      <td>0</td>\n",
       "      <td>0.082171</td>\n",
       "      <td>14</td>\n",
       "      <td>477.38</td>\n",
       "      <td>1994</td>\n",
       "      <td>0</td>\n",
       "      <td>2</td>\n",
       "      <td>1</td>\n",
       "      <td>31</td>\n",
       "      <td>5808.889012</td>\n",
       "      <td>2.547299</td>\n",
       "      <td>64.598106</td>\n",
       "      <td>1</td>\n",
       "    </tr>\n",
       "    <tr>\n",
       "      <th>4993</th>\n",
       "      <td>DRB13_BABATUNJI010</td>\n",
       "      <td>6.115</td>\n",
       "      <td>1</td>\n",
       "      <td>0.011791</td>\n",
       "      <td>14</td>\n",
       "      <td>472.63</td>\n",
       "      <td>2005</td>\n",
       "      <td>1</td>\n",
       "      <td>2</td>\n",
       "      <td>0</td>\n",
       "      <td>20</td>\n",
       "      <td>40050.742409</td>\n",
       "      <td>0.235816</td>\n",
       "      <td>77.290270</td>\n",
       "      <td>1</td>\n",
       "    </tr>\n",
       "    <tr>\n",
       "      <th>4994</th>\n",
       "      <td>DRB13_BABATUNJI013</td>\n",
       "      <td>6.115</td>\n",
       "      <td>1</td>\n",
       "      <td>0.007038</td>\n",
       "      <td>14</td>\n",
       "      <td>473.13</td>\n",
       "      <td>1994</td>\n",
       "      <td>0</td>\n",
       "      <td>2</td>\n",
       "      <td>1</td>\n",
       "      <td>31</td>\n",
       "      <td>67125.129709</td>\n",
       "      <td>0.218193</td>\n",
       "      <td>77.372036</td>\n",
       "      <td>1</td>\n",
       "    </tr>\n",
       "  </tbody>\n",
       "</table>\n",
       "</div>"
      ],
      "text/plain": [
       "           Item_Store_ID  Item_Weight  Item_Sugar_Content  Item_Visibility  \\\n",
       "4990  DRA59_BABATUNJI010        8.270                   1         0.214125   \n",
       "4991  DRA59_BABATUNJI013        8.270                   1         0.127821   \n",
       "4992  DRB01_BABATUNJI013        7.390                   0         0.082171   \n",
       "4993  DRB13_BABATUNJI010        6.115                   1         0.011791   \n",
       "4994  DRB13_BABATUNJI013        6.115                   1         0.007038   \n",
       "\n",
       "      Item_Type  Item_Price  Store_Start_Year  Store_Size  \\\n",
       "4990         14      459.98              2005           1   \n",
       "4991         14      464.98              1994           0   \n",
       "4992         14      477.38              1994           0   \n",
       "4993         14      472.63              2005           1   \n",
       "4994         14      473.13              1994           0   \n",
       "\n",
       "      Store_Location_Type  Store_Type  Store_Age  Visibility_Adjusted_Price  \\\n",
       "4990                    2           0         20                2148.082858   \n",
       "4991                    2           1         31                3637.445402   \n",
       "4992                    2           1         31                5808.889012   \n",
       "4993                    2           0         20               40050.742409   \n",
       "4994                    2           1         31               67125.129709   \n",
       "\n",
       "      Store_Exposure  Item_Price_per_Weight  Item_Weight_Category  \n",
       "4990        4.282503              55.620314                     1  \n",
       "4991        3.962466              56.224909                     1  \n",
       "4992        2.547299              64.598106                     1  \n",
       "4993        0.235816              77.290270                     1  \n",
       "4994        0.218193              77.372036                     1  "
      ]
     },
     "execution_count": 219,
     "metadata": {},
     "output_type": "execute_result"
    }
   ],
   "source": [
    "test_df.head()"
   ]
  },
  {
   "cell_type": "code",
   "execution_count": 220,
   "id": "7cdaaca5",
   "metadata": {},
   "outputs": [],
   "source": [
    "test_df_copy = test_df.copy()"
   ]
  },
  {
   "cell_type": "code",
   "execution_count": 221,
   "id": "a6b6f23e",
   "metadata": {},
   "outputs": [
    {
     "data": {
      "text/html": [
       "<div>\n",
       "<style scoped>\n",
       "    .dataframe tbody tr th:only-of-type {\n",
       "        vertical-align: middle;\n",
       "    }\n",
       "\n",
       "    .dataframe tbody tr th {\n",
       "        vertical-align: top;\n",
       "    }\n",
       "\n",
       "    .dataframe thead th {\n",
       "        text-align: right;\n",
       "    }\n",
       "</style>\n",
       "<table border=\"1\" class=\"dataframe\">\n",
       "  <thead>\n",
       "    <tr style=\"text-align: right;\">\n",
       "      <th></th>\n",
       "      <th>Item_Store_ID</th>\n",
       "      <th>Item_Weight</th>\n",
       "      <th>Item_Sugar_Content</th>\n",
       "      <th>Item_Visibility</th>\n",
       "      <th>Item_Type</th>\n",
       "      <th>Item_Price</th>\n",
       "      <th>Store_Start_Year</th>\n",
       "      <th>Store_Size</th>\n",
       "      <th>Store_Location_Type</th>\n",
       "      <th>Store_Type</th>\n",
       "      <th>Store_Age</th>\n",
       "      <th>Visibility_Adjusted_Price</th>\n",
       "      <th>Store_Exposure</th>\n",
       "      <th>Item_Price_per_Weight</th>\n",
       "      <th>Item_Weight_Category</th>\n",
       "    </tr>\n",
       "  </thead>\n",
       "  <tbody>\n",
       "    <tr>\n",
       "      <th>4990</th>\n",
       "      <td>DRA59_BABATUNJI010</td>\n",
       "      <td>8.270</td>\n",
       "      <td>1</td>\n",
       "      <td>0.214125</td>\n",
       "      <td>14</td>\n",
       "      <td>459.98</td>\n",
       "      <td>2005</td>\n",
       "      <td>1</td>\n",
       "      <td>2</td>\n",
       "      <td>0</td>\n",
       "      <td>20</td>\n",
       "      <td>2148.082858</td>\n",
       "      <td>4.282503</td>\n",
       "      <td>55.620314</td>\n",
       "      <td>1</td>\n",
       "    </tr>\n",
       "    <tr>\n",
       "      <th>4991</th>\n",
       "      <td>DRA59_BABATUNJI013</td>\n",
       "      <td>8.270</td>\n",
       "      <td>1</td>\n",
       "      <td>0.127821</td>\n",
       "      <td>14</td>\n",
       "      <td>464.98</td>\n",
       "      <td>1994</td>\n",
       "      <td>0</td>\n",
       "      <td>2</td>\n",
       "      <td>1</td>\n",
       "      <td>31</td>\n",
       "      <td>3637.445402</td>\n",
       "      <td>3.962466</td>\n",
       "      <td>56.224909</td>\n",
       "      <td>1</td>\n",
       "    </tr>\n",
       "    <tr>\n",
       "      <th>4992</th>\n",
       "      <td>DRB01_BABATUNJI013</td>\n",
       "      <td>7.390</td>\n",
       "      <td>0</td>\n",
       "      <td>0.082171</td>\n",
       "      <td>14</td>\n",
       "      <td>477.38</td>\n",
       "      <td>1994</td>\n",
       "      <td>0</td>\n",
       "      <td>2</td>\n",
       "      <td>1</td>\n",
       "      <td>31</td>\n",
       "      <td>5808.889012</td>\n",
       "      <td>2.547299</td>\n",
       "      <td>64.598106</td>\n",
       "      <td>1</td>\n",
       "    </tr>\n",
       "    <tr>\n",
       "      <th>4993</th>\n",
       "      <td>DRB13_BABATUNJI010</td>\n",
       "      <td>6.115</td>\n",
       "      <td>1</td>\n",
       "      <td>0.011791</td>\n",
       "      <td>14</td>\n",
       "      <td>472.63</td>\n",
       "      <td>2005</td>\n",
       "      <td>1</td>\n",
       "      <td>2</td>\n",
       "      <td>0</td>\n",
       "      <td>20</td>\n",
       "      <td>40050.742409</td>\n",
       "      <td>0.235816</td>\n",
       "      <td>77.290270</td>\n",
       "      <td>1</td>\n",
       "    </tr>\n",
       "    <tr>\n",
       "      <th>4994</th>\n",
       "      <td>DRB13_BABATUNJI013</td>\n",
       "      <td>6.115</td>\n",
       "      <td>1</td>\n",
       "      <td>0.007038</td>\n",
       "      <td>14</td>\n",
       "      <td>473.13</td>\n",
       "      <td>1994</td>\n",
       "      <td>0</td>\n",
       "      <td>2</td>\n",
       "      <td>1</td>\n",
       "      <td>31</td>\n",
       "      <td>67125.129709</td>\n",
       "      <td>0.218193</td>\n",
       "      <td>77.372036</td>\n",
       "      <td>1</td>\n",
       "    </tr>\n",
       "  </tbody>\n",
       "</table>\n",
       "</div>"
      ],
      "text/plain": [
       "           Item_Store_ID  Item_Weight  Item_Sugar_Content  Item_Visibility  \\\n",
       "4990  DRA59_BABATUNJI010        8.270                   1         0.214125   \n",
       "4991  DRA59_BABATUNJI013        8.270                   1         0.127821   \n",
       "4992  DRB01_BABATUNJI013        7.390                   0         0.082171   \n",
       "4993  DRB13_BABATUNJI010        6.115                   1         0.011791   \n",
       "4994  DRB13_BABATUNJI013        6.115                   1         0.007038   \n",
       "\n",
       "      Item_Type  Item_Price  Store_Start_Year  Store_Size  \\\n",
       "4990         14      459.98              2005           1   \n",
       "4991         14      464.98              1994           0   \n",
       "4992         14      477.38              1994           0   \n",
       "4993         14      472.63              2005           1   \n",
       "4994         14      473.13              1994           0   \n",
       "\n",
       "      Store_Location_Type  Store_Type  Store_Age  Visibility_Adjusted_Price  \\\n",
       "4990                    2           0         20                2148.082858   \n",
       "4991                    2           1         31                3637.445402   \n",
       "4992                    2           1         31                5808.889012   \n",
       "4993                    2           0         20               40050.742409   \n",
       "4994                    2           1         31               67125.129709   \n",
       "\n",
       "      Store_Exposure  Item_Price_per_Weight  Item_Weight_Category  \n",
       "4990        4.282503              55.620314                     1  \n",
       "4991        3.962466              56.224909                     1  \n",
       "4992        2.547299              64.598106                     1  \n",
       "4993        0.235816              77.290270                     1  \n",
       "4994        0.218193              77.372036                     1  "
      ]
     },
     "execution_count": 221,
     "metadata": {},
     "output_type": "execute_result"
    }
   ],
   "source": [
    "test_df_copy.head()"
   ]
  },
  {
   "cell_type": "code",
   "execution_count": 222,
   "id": "7dd6b3fa",
   "metadata": {},
   "outputs": [],
   "source": [
    "submission['Item_Store_ID'] = test_df['Item_Store_ID']"
   ]
  },
  {
   "cell_type": "code",
   "execution_count": 223,
   "id": "c683dea1",
   "metadata": {},
   "outputs": [
    {
     "data": {
      "text/plain": [
       "0"
      ]
     },
     "execution_count": 223,
     "metadata": {},
     "output_type": "execute_result"
    }
   ],
   "source": [
    "submission['Item_Store_ID'].count()"
   ]
  },
  {
   "cell_type": "code",
   "execution_count": 224,
   "id": "711a40e2",
   "metadata": {},
   "outputs": [
    {
     "name": "stdout",
     "output_type": "stream",
     "text": [
      "<class 'pandas.core.frame.DataFrame'>\n",
      "Int64Index: 3532 entries, 4990 to 8521\n",
      "Data columns (total 15 columns):\n",
      " #   Column                     Non-Null Count  Dtype  \n",
      "---  ------                     --------------  -----  \n",
      " 0   Item_Store_ID              3532 non-null   object \n",
      " 1   Item_Weight                3532 non-null   float64\n",
      " 2   Item_Sugar_Content         3532 non-null   int32  \n",
      " 3   Item_Visibility            3532 non-null   float64\n",
      " 4   Item_Type                  3532 non-null   int32  \n",
      " 5   Item_Price                 3532 non-null   float64\n",
      " 6   Store_Start_Year           3532 non-null   int64  \n",
      " 7   Store_Size                 3532 non-null   int32  \n",
      " 8   Store_Location_Type        3532 non-null   int32  \n",
      " 9   Store_Type                 3532 non-null   int32  \n",
      " 10  Store_Age                  3532 non-null   int64  \n",
      " 11  Visibility_Adjusted_Price  3532 non-null   float64\n",
      " 12  Store_Exposure             3532 non-null   float64\n",
      " 13  Item_Price_per_Weight      3532 non-null   float64\n",
      " 14  Item_Weight_Category       3532 non-null   int32  \n",
      "dtypes: float64(6), int32(6), int64(2), object(1)\n",
      "memory usage: 487.8+ KB\n"
     ]
    }
   ],
   "source": [
    "test_df.info()"
   ]
  },
  {
   "cell_type": "code",
   "execution_count": 225,
   "id": "c3382a1e",
   "metadata": {},
   "outputs": [],
   "source": [
    "X = train_df.drop([\"Item_Store_Returns\", \"Item_Store_ID\"], axis=1)\n",
    "y = train_df[\"Item_Store_Returns\"]  # apply log1p to target"
   ]
  },
  {
   "cell_type": "code",
   "execution_count": 226,
   "id": "1e4bdcc6",
   "metadata": {},
   "outputs": [],
   "source": [
    "X_test = test_df.drop([\"Item_Store_ID\"], axis=1)"
   ]
  },
  {
   "cell_type": "code",
   "execution_count": 227,
   "id": "16d05510",
   "metadata": {},
   "outputs": [],
   "source": [
    "test_df = test_df.drop([\"Item_Store_ID\"], axis=1)"
   ]
  },
  {
   "cell_type": "code",
   "execution_count": 228,
   "id": "a3111b81",
   "metadata": {},
   "outputs": [
    {
     "data": {
      "text/html": [
       "<div>\n",
       "<style scoped>\n",
       "    .dataframe tbody tr th:only-of-type {\n",
       "        vertical-align: middle;\n",
       "    }\n",
       "\n",
       "    .dataframe tbody tr th {\n",
       "        vertical-align: top;\n",
       "    }\n",
       "\n",
       "    .dataframe thead th {\n",
       "        text-align: right;\n",
       "    }\n",
       "</style>\n",
       "<table border=\"1\" class=\"dataframe\">\n",
       "  <thead>\n",
       "    <tr style=\"text-align: right;\">\n",
       "      <th></th>\n",
       "      <th>Item_Weight</th>\n",
       "      <th>Item_Sugar_Content</th>\n",
       "      <th>Item_Visibility</th>\n",
       "      <th>Item_Type</th>\n",
       "      <th>Item_Price</th>\n",
       "      <th>Store_Start_Year</th>\n",
       "      <th>Store_Size</th>\n",
       "      <th>Store_Location_Type</th>\n",
       "      <th>Store_Type</th>\n",
       "      <th>Store_Age</th>\n",
       "      <th>Visibility_Adjusted_Price</th>\n",
       "      <th>Store_Exposure</th>\n",
       "      <th>Item_Price_per_Weight</th>\n",
       "      <th>Item_Weight_Category</th>\n",
       "    </tr>\n",
       "  </thead>\n",
       "  <tbody>\n",
       "    <tr>\n",
       "      <th>4990</th>\n",
       "      <td>8.270</td>\n",
       "      <td>1</td>\n",
       "      <td>0.214125</td>\n",
       "      <td>14</td>\n",
       "      <td>459.98</td>\n",
       "      <td>2005</td>\n",
       "      <td>1</td>\n",
       "      <td>2</td>\n",
       "      <td>0</td>\n",
       "      <td>20</td>\n",
       "      <td>2148.082858</td>\n",
       "      <td>4.282503</td>\n",
       "      <td>55.620314</td>\n",
       "      <td>1</td>\n",
       "    </tr>\n",
       "    <tr>\n",
       "      <th>4991</th>\n",
       "      <td>8.270</td>\n",
       "      <td>1</td>\n",
       "      <td>0.127821</td>\n",
       "      <td>14</td>\n",
       "      <td>464.98</td>\n",
       "      <td>1994</td>\n",
       "      <td>0</td>\n",
       "      <td>2</td>\n",
       "      <td>1</td>\n",
       "      <td>31</td>\n",
       "      <td>3637.445402</td>\n",
       "      <td>3.962466</td>\n",
       "      <td>56.224909</td>\n",
       "      <td>1</td>\n",
       "    </tr>\n",
       "    <tr>\n",
       "      <th>4992</th>\n",
       "      <td>7.390</td>\n",
       "      <td>0</td>\n",
       "      <td>0.082171</td>\n",
       "      <td>14</td>\n",
       "      <td>477.38</td>\n",
       "      <td>1994</td>\n",
       "      <td>0</td>\n",
       "      <td>2</td>\n",
       "      <td>1</td>\n",
       "      <td>31</td>\n",
       "      <td>5808.889012</td>\n",
       "      <td>2.547299</td>\n",
       "      <td>64.598106</td>\n",
       "      <td>1</td>\n",
       "    </tr>\n",
       "    <tr>\n",
       "      <th>4993</th>\n",
       "      <td>6.115</td>\n",
       "      <td>1</td>\n",
       "      <td>0.011791</td>\n",
       "      <td>14</td>\n",
       "      <td>472.63</td>\n",
       "      <td>2005</td>\n",
       "      <td>1</td>\n",
       "      <td>2</td>\n",
       "      <td>0</td>\n",
       "      <td>20</td>\n",
       "      <td>40050.742409</td>\n",
       "      <td>0.235816</td>\n",
       "      <td>77.290270</td>\n",
       "      <td>1</td>\n",
       "    </tr>\n",
       "    <tr>\n",
       "      <th>4994</th>\n",
       "      <td>6.115</td>\n",
       "      <td>1</td>\n",
       "      <td>0.007038</td>\n",
       "      <td>14</td>\n",
       "      <td>473.13</td>\n",
       "      <td>1994</td>\n",
       "      <td>0</td>\n",
       "      <td>2</td>\n",
       "      <td>1</td>\n",
       "      <td>31</td>\n",
       "      <td>67125.129709</td>\n",
       "      <td>0.218193</td>\n",
       "      <td>77.372036</td>\n",
       "      <td>1</td>\n",
       "    </tr>\n",
       "  </tbody>\n",
       "</table>\n",
       "</div>"
      ],
      "text/plain": [
       "      Item_Weight  Item_Sugar_Content  Item_Visibility  Item_Type  Item_Price  \\\n",
       "4990        8.270                   1         0.214125         14      459.98   \n",
       "4991        8.270                   1         0.127821         14      464.98   \n",
       "4992        7.390                   0         0.082171         14      477.38   \n",
       "4993        6.115                   1         0.011791         14      472.63   \n",
       "4994        6.115                   1         0.007038         14      473.13   \n",
       "\n",
       "      Store_Start_Year  Store_Size  Store_Location_Type  Store_Type  \\\n",
       "4990              2005           1                    2           0   \n",
       "4991              1994           0                    2           1   \n",
       "4992              1994           0                    2           1   \n",
       "4993              2005           1                    2           0   \n",
       "4994              1994           0                    2           1   \n",
       "\n",
       "      Store_Age  Visibility_Adjusted_Price  Store_Exposure  \\\n",
       "4990         20                2148.082858        4.282503   \n",
       "4991         31                3637.445402        3.962466   \n",
       "4992         31                5808.889012        2.547299   \n",
       "4993         20               40050.742409        0.235816   \n",
       "4994         31               67125.129709        0.218193   \n",
       "\n",
       "      Item_Price_per_Weight  Item_Weight_Category  \n",
       "4990              55.620314                     1  \n",
       "4991              56.224909                     1  \n",
       "4992              64.598106                     1  \n",
       "4993              77.290270                     1  \n",
       "4994              77.372036                     1  "
      ]
     },
     "execution_count": 228,
     "metadata": {},
     "output_type": "execute_result"
    }
   ],
   "source": [
    "test_df.head()"
   ]
  },
  {
   "cell_type": "code",
   "execution_count": 229,
   "id": "792aa35d",
   "metadata": {},
   "outputs": [],
   "source": [
    "# Train-validation split\n",
    "X_train, X_val, y_train, y_val = train_test_split(X, y, test_size=0.2, random_state=42)"
   ]
  },
  {
   "cell_type": "code",
   "execution_count": 253,
   "id": "4c083817",
   "metadata": {},
   "outputs": [],
   "source": [
    "#xgboost \n",
    "xgb = XGBRegressor(objective='reg:squarederror', random_state=42)"
   ]
  },
  {
   "cell_type": "code",
   "execution_count": 231,
   "id": "a5391e02",
   "metadata": {},
   "outputs": [],
   "source": [
    "# Define grid parameters\n",
    "param_grid = {\n",
    "    'max_depth': [3, 5, 7],\n",
    "    'learning_rate': [0.01, 0.05, 0.1],\n",
    "    'n_estimators': [100, 300, 500],\n",
    "    'subsample': [0.8, 1.0],\n",
    "    'colsample_bytree': [0.7, 0.9, 1.0]\n",
    "}"
   ]
  },
  {
   "cell_type": "code",
   "execution_count": 232,
   "id": "901d7536",
   "metadata": {},
   "outputs": [
    {
     "name": "stdout",
     "output_type": "stream",
     "text": [
      "Fitting 3 folds for each of 162 candidates, totalling 486 fits\n"
     ]
    },
    {
     "data": {
      "text/plain": [
       "GridSearchCV(cv=3,\n",
       "             estimator=XGBRegressor(base_score=None, booster=None,\n",
       "                                    callbacks=None, colsample_bylevel=None,\n",
       "                                    colsample_bynode=None,\n",
       "                                    colsample_bytree=None, device=None,\n",
       "                                    early_stopping_rounds=None,\n",
       "                                    enable_categorical=False, eval_metric=None,\n",
       "                                    feature_types=None, gamma=None,\n",
       "                                    grow_policy=None, importance_type=None,\n",
       "                                    interaction_constraints=None,\n",
       "                                    learning_rate=None, m...\n",
       "                                    min_child_weight=None, missing=nan,\n",
       "                                    monotone_constraints=None,\n",
       "                                    multi_strategy=None, n_estimators=None,\n",
       "                                    n_jobs=None, num_parallel_tree=None,\n",
       "                                    random_state=42, ...),\n",
       "             n_jobs=-1,\n",
       "             param_grid={'colsample_bytree': [0.7, 0.9, 1.0],\n",
       "                         'learning_rate': [0.01, 0.05, 0.1],\n",
       "                         'max_depth': [3, 5, 7],\n",
       "                         'n_estimators': [100, 300, 500],\n",
       "                         'subsample': [0.8, 1.0]},\n",
       "             scoring='neg_root_mean_squared_error', verbose=2)"
      ]
     },
     "execution_count": 232,
     "metadata": {},
     "output_type": "execute_result"
    }
   ],
   "source": [
    "# Run Grid Search\n",
    "grid_search = GridSearchCV(estimator=xgb,\n",
    "                           param_grid=param_grid,\n",
    "                           scoring='neg_root_mean_squared_error',\n",
    "                           cv=3,\n",
    "                           verbose=2,\n",
    "                           n_jobs=-1)\n",
    "\n",
    "grid_search.fit(X_train, y_train)"
   ]
  },
  {
   "cell_type": "code",
   "execution_count": 233,
   "id": "d18b4d6e",
   "metadata": {},
   "outputs": [
    {
     "name": "stdout",
     "output_type": "stream",
     "text": [
      "Best parameters: {'colsample_bytree': 0.9, 'learning_rate': 0.01, 'max_depth': 3, 'n_estimators': 500, 'subsample': 0.8}\n"
     ]
    }
   ],
   "source": [
    "# Best estimator\n",
    "best_model = grid_search.best_estimator_\n",
    "print(\"Best parameters:\", grid_search.best_params_)"
   ]
  },
  {
   "cell_type": "code",
   "execution_count": 234,
   "id": "1fdaabd6",
   "metadata": {},
   "outputs": [
    {
     "name": "stdout",
     "output_type": "stream",
     "text": [
      "RMSE on validation set: 2964.6794\n"
     ]
    }
   ],
   "source": [
    "# Evaluation\n",
    "y_pred = best_model.predict(X_val)\n",
    "rmse = np.sqrt(mean_squared_error(y_val, y_pred))\n",
    "print(f\"RMSE on validation set: {rmse:.4f}\")"
   ]
  },
  {
   "cell_type": "code",
   "execution_count": 235,
   "id": "579880fa",
   "metadata": {},
   "outputs": [],
   "source": [
    "# Make predictions on the test set\n",
    "test_preds = best_model.predict(test_df)"
   ]
  },
  {
   "cell_type": "code",
   "execution_count": 236,
   "id": "af563264",
   "metadata": {},
   "outputs": [],
   "source": [
    "submission = pd.DataFrame({\n",
    "\n",
    "      # original test set\n",
    "    \"Item_Store_ID\": test_df_copy[\"Item_Store_ID\"],\n",
    "    \"Predicted_Returns\": test_preds\n",
    "})\n",
    "submission.to_csv(\"Hackthon_riesubmission.csv\", index=False)\n"
   ]
  },
  {
   "cell_type": "code",
   "execution_count": 237,
   "id": "db64d945",
   "metadata": {},
   "outputs": [
    {
     "data": {
      "text/plain": [
       "RandomForestRegressor(random_state=42)"
      ]
     },
     "execution_count": 237,
     "metadata": {},
     "output_type": "execute_result"
    }
   ],
   "source": [
    "# Train model Random forest\n",
    "model = RandomForestRegressor(n_estimators=100, random_state=42)\n",
    "model.fit(X_train, y_train)"
   ]
  },
  {
   "cell_type": "code",
   "execution_count": 238,
   "id": "1ea6f5e5",
   "metadata": {},
   "outputs": [
    {
     "name": "stdout",
     "output_type": "stream",
     "text": [
      "<class 'pandas.core.frame.DataFrame'>\n",
      "Int64Index: 3532 entries, 4990 to 8521\n",
      "Data columns (total 14 columns):\n",
      " #   Column                     Non-Null Count  Dtype  \n",
      "---  ------                     --------------  -----  \n",
      " 0   Item_Weight                3532 non-null   float64\n",
      " 1   Item_Sugar_Content         3532 non-null   int32  \n",
      " 2   Item_Visibility            3532 non-null   float64\n",
      " 3   Item_Type                  3532 non-null   int32  \n",
      " 4   Item_Price                 3532 non-null   float64\n",
      " 5   Store_Start_Year           3532 non-null   int64  \n",
      " 6   Store_Size                 3532 non-null   int32  \n",
      " 7   Store_Location_Type        3532 non-null   int32  \n",
      " 8   Store_Type                 3532 non-null   int32  \n",
      " 9   Store_Age                  3532 non-null   int64  \n",
      " 10  Visibility_Adjusted_Price  3532 non-null   float64\n",
      " 11  Store_Exposure             3532 non-null   float64\n",
      " 12  Item_Price_per_Weight      3532 non-null   float64\n",
      " 13  Item_Weight_Category       3532 non-null   int32  \n",
      "dtypes: float64(6), int32(6), int64(2)\n",
      "memory usage: 460.2 KB\n"
     ]
    }
   ],
   "source": [
    "X_test.info()"
   ]
  },
  {
   "cell_type": "code",
   "execution_count": 239,
   "id": "91591d02",
   "metadata": {},
   "outputs": [],
   "source": [
    "# Predict on validation set\n",
    "y_pred = model.predict(X_val)"
   ]
  },
  {
   "cell_type": "code",
   "execution_count": 240,
   "id": "7519fcad",
   "metadata": {},
   "outputs": [],
   "source": [
    "# Predict on real test set\n",
    "test_preds = model.predict(X_test)"
   ]
  },
  {
   "cell_type": "code",
   "execution_count": 241,
   "id": "38ea7994",
   "metadata": {},
   "outputs": [
    {
     "name": "stdout",
     "output_type": "stream",
     "text": [
      "Predictions: 3532\n",
      "Test set rows: 3532\n"
     ]
    }
   ],
   "source": [
    "print(\"Predictions:\", len(test_preds))\n",
    "print(\"Test set rows:\", len(test_df))"
   ]
  },
  {
   "cell_type": "code",
   "execution_count": 244,
   "id": "716c3b95",
   "metadata": {},
   "outputs": [
    {
     "name": "stdout",
     "output_type": "stream",
     "text": [
      "RMSE: 3096.8181\n"
     ]
    }
   ],
   "source": [
    "# Evaluation metrics\n",
    "rmse = mean_squared_error(y_val, y_pred, squared=False)\n",
    "print(f\"RMSE: {rmse:.4f}\")"
   ]
  },
  {
   "cell_type": "code",
   "execution_count": 245,
   "id": "af851058",
   "metadata": {},
   "outputs": [
    {
     "data": {
      "text/plain": [
       "(3532, 14)"
      ]
     },
     "execution_count": 245,
     "metadata": {},
     "output_type": "execute_result"
    }
   ],
   "source": [
    "test_df.shape"
   ]
  },
  {
   "cell_type": "code",
   "execution_count": 250,
   "id": "cf5a7a68",
   "metadata": {},
   "outputs": [],
   "source": [
    "submission1 = pd.DataFrame({\n",
    "    \"Item_Store_ID\": test_df_copy[\"Item_Store_ID\"],  # original test set\n",
    "    \"Predicted_Returns\": test_preds\n",
    "})\n",
    "submission1.to_csv(\"Hackthon_randsubmission.csv\", index=False)\n"
   ]
  },
  {
   "cell_type": "code",
   "execution_count": 251,
   "id": "251118c8",
   "metadata": {},
   "outputs": [
    {
     "data": {
      "text/html": [
       "<div>\n",
       "<style scoped>\n",
       "    .dataframe tbody tr th:only-of-type {\n",
       "        vertical-align: middle;\n",
       "    }\n",
       "\n",
       "    .dataframe tbody tr th {\n",
       "        vertical-align: top;\n",
       "    }\n",
       "\n",
       "    .dataframe thead th {\n",
       "        text-align: right;\n",
       "    }\n",
       "</style>\n",
       "<table border=\"1\" class=\"dataframe\">\n",
       "  <thead>\n",
       "    <tr style=\"text-align: right;\">\n",
       "      <th></th>\n",
       "      <th>Item_Store_ID</th>\n",
       "      <th>Predicted_Returns</th>\n",
       "    </tr>\n",
       "  </thead>\n",
       "  <tbody>\n",
       "    <tr>\n",
       "      <th>4990</th>\n",
       "      <td>DRA59_BABATUNJI010</td>\n",
       "      <td>1734.064087</td>\n",
       "    </tr>\n",
       "    <tr>\n",
       "      <th>4991</th>\n",
       "      <td>DRA59_BABATUNJI013</td>\n",
       "      <td>7665.978027</td>\n",
       "    </tr>\n",
       "    <tr>\n",
       "      <th>4992</th>\n",
       "      <td>DRB01_BABATUNJI013</td>\n",
       "      <td>7610.979980</td>\n",
       "    </tr>\n",
       "    <tr>\n",
       "      <th>4993</th>\n",
       "      <td>DRB13_BABATUNJI010</td>\n",
       "      <td>1822.345947</td>\n",
       "    </tr>\n",
       "    <tr>\n",
       "      <th>4994</th>\n",
       "      <td>DRB13_BABATUNJI013</td>\n",
       "      <td>7315.526855</td>\n",
       "    </tr>\n",
       "    <tr>\n",
       "      <th>...</th>\n",
       "      <td>...</td>\n",
       "      <td>...</td>\n",
       "    </tr>\n",
       "    <tr>\n",
       "      <th>5085</th>\n",
       "      <td>DRF03_BABATUNJI035</td>\n",
       "      <td>2925.028809</td>\n",
       "    </tr>\n",
       "    <tr>\n",
       "      <th>5086</th>\n",
       "      <td>DRF03_BABATUNJI045</td>\n",
       "      <td>2843.367432</td>\n",
       "    </tr>\n",
       "    <tr>\n",
       "      <th>5087</th>\n",
       "      <td>DRF03_BABATUNJI046</td>\n",
       "      <td>2700.537842</td>\n",
       "    </tr>\n",
       "    <tr>\n",
       "      <th>5088</th>\n",
       "      <td>DRF03_BABATUNJI049</td>\n",
       "      <td>2844.491943</td>\n",
       "    </tr>\n",
       "    <tr>\n",
       "      <th>5089</th>\n",
       "      <td>DRF25_BABATUNJI019</td>\n",
       "      <td>111.075401</td>\n",
       "    </tr>\n",
       "  </tbody>\n",
       "</table>\n",
       "<p>100 rows × 2 columns</p>\n",
       "</div>"
      ],
      "text/plain": [
       "           Item_Store_ID  Predicted_Returns\n",
       "4990  DRA59_BABATUNJI010        1734.064087\n",
       "4991  DRA59_BABATUNJI013        7665.978027\n",
       "4992  DRB01_BABATUNJI013        7610.979980\n",
       "4993  DRB13_BABATUNJI010        1822.345947\n",
       "4994  DRB13_BABATUNJI013        7315.526855\n",
       "...                  ...                ...\n",
       "5085  DRF03_BABATUNJI035        2925.028809\n",
       "5086  DRF03_BABATUNJI045        2843.367432\n",
       "5087  DRF03_BABATUNJI046        2700.537842\n",
       "5088  DRF03_BABATUNJI049        2844.491943\n",
       "5089  DRF25_BABATUNJI019         111.075401\n",
       "\n",
       "[100 rows x 2 columns]"
      ]
     },
     "execution_count": 251,
     "metadata": {},
     "output_type": "execute_result"
    }
   ],
   "source": [
    "submission.head(100)"
   ]
  },
  {
   "cell_type": "code",
   "execution_count": 249,
   "id": "bf961ebb",
   "metadata": {},
   "outputs": [
    {
     "data": {
      "text/plain": [
       "(3532, 14)"
      ]
     },
     "execution_count": 249,
     "metadata": {},
     "output_type": "execute_result"
    }
   ],
   "source": [
    "test.shape"
   ]
  },
  {
   "cell_type": "code",
   "execution_count": 58,
   "id": "3d5ce056",
   "metadata": {},
   "outputs": [
    {
     "data": {
      "text/plain": [
       "(3532, 15)"
      ]
     },
     "execution_count": 58,
     "metadata": {},
     "output_type": "execute_result"
    }
   ],
   "source": [
    "test_df.shape"
   ]
  },
  {
   "cell_type": "code",
   "execution_count": null,
   "id": "45dcc376",
   "metadata": {},
   "outputs": [],
   "source": []
  },
  {
   "cell_type": "code",
   "execution_count": null,
   "id": "32134d35",
   "metadata": {},
   "outputs": [],
   "source": []
  }
 ],
 "metadata": {
  "kernelspec": {
   "display_name": "Python 3 (ipykernel)",
   "language": "python",
   "name": "python3"
  },
  "language_info": {
   "codemirror_mode": {
    "name": "ipython",
    "version": 3
   },
   "file_extension": ".py",
   "mimetype": "text/x-python",
   "name": "python",
   "nbconvert_exporter": "python",
   "pygments_lexer": "ipython3",
   "version": "3.9.13"
  }
 },
 "nbformat": 4,
 "nbformat_minor": 5
}
